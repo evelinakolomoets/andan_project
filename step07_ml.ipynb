{
 "cells": [
  {
   "cell_type": "markdown",
   "id": "0a0e2860",
   "metadata": {},
   "source": [
    "# Шаг 7. Машинное обучение"
   ]
  },
  {
   "cell_type": "markdown",
   "id": "2d948ef1",
   "metadata": {},
   "source": [
    "### Импорт необходимых библиотек"
   ]
  },
  {
   "cell_type": "code",
   "execution_count": 1,
   "id": "70c255da",
   "metadata": {},
   "outputs": [],
   "source": [
    "import pandas as pd\n",
    "\n",
    "# функции из sklearn импортируются далее по файлу в начале каждого раздела"
   ]
  },
  {
   "cell_type": "code",
   "execution_count": 2,
   "id": "bd9d2aa6",
   "metadata": {},
   "outputs": [],
   "source": [
    "df = pd.read_csv('df_after_step05.csv', index_col=0)"
   ]
  },
  {
   "cell_type": "markdown",
   "id": "4b7617eb",
   "metadata": {},
   "source": [
    "## Что предсказываем и почему\n",
    "USD/RUB\n",
    "\n",
    "_work in progress_"
   ]
  },
  {
   "cell_type": "markdown",
   "id": "f9925c1b",
   "metadata": {},
   "source": [
    "## Предварительная подготовка данных\n",
    "\n",
    "Для того, чтобы обучать модели, нужно:\n",
    "\n",
    "- Преобразовать нечисловые признаки: перевести все категориальные признаки в числовой формат\n",
    "- Разделить выборки на обучающую (train) и тестовую (test)\n",
    "- Отмасштабировать признаки"
   ]
  },
  {
   "cell_type": "markdown",
   "id": "2d716ed7",
   "metadata": {},
   "source": [
    "### Преобразование нечисловых признаков"
   ]
  },
  {
   "cell_type": "code",
   "execution_count": 3,
   "id": "12a31280",
   "metadata": {},
   "outputs": [
    {
     "data": {
      "text/html": [
       "<div>\n",
       "<style scoped>\n",
       "    .dataframe tbody tr th:only-of-type {\n",
       "        vertical-align: middle;\n",
       "    }\n",
       "\n",
       "    .dataframe tbody tr th {\n",
       "        vertical-align: top;\n",
       "    }\n",
       "\n",
       "    .dataframe thead th {\n",
       "        text-align: right;\n",
       "    }\n",
       "</style>\n",
       "<table border=\"1\" class=\"dataframe\">\n",
       "  <thead>\n",
       "    <tr style=\"text-align: right;\">\n",
       "      <th></th>\n",
       "      <th>usdrub</th>\n",
       "      <th>gold</th>\n",
       "      <th>cb_key_rate</th>\n",
       "      <th>fed_rate</th>\n",
       "      <th>imoex_open</th>\n",
       "      <th>imoex_close</th>\n",
       "      <th>ru_cpi</th>\n",
       "      <th>us_cpi</th>\n",
       "      <th>first_workday</th>\n",
       "      <th>second_workday</th>\n",
       "      <th>imoex_vol</th>\n",
       "      <th>ru_monetary</th>\n",
       "      <th>us_monetary</th>\n",
       "      <th>workday</th>\n",
       "    </tr>\n",
       "  </thead>\n",
       "  <tbody>\n",
       "    <tr>\n",
       "      <th>09.10.2008</th>\n",
       "      <td>26.1629</td>\n",
       "      <td>767.98</td>\n",
       "      <td>11.0</td>\n",
       "      <td>1.4</td>\n",
       "      <td>637.93</td>\n",
       "      <td>700.37</td>\n",
       "      <td>100.91</td>\n",
       "      <td>100.867301</td>\n",
       "      <td>0</td>\n",
       "      <td>0</td>\n",
       "      <td>62.44</td>\n",
       "      <td>0.08</td>\n",
       "      <td>-9.007613</td>\n",
       "      <td>1</td>\n",
       "    </tr>\n",
       "    <tr>\n",
       "      <th>10.10.2008</th>\n",
       "      <td>26.0695</td>\n",
       "      <td>743.23</td>\n",
       "      <td>11.0</td>\n",
       "      <td>1.4</td>\n",
       "      <td>0.00</td>\n",
       "      <td>700.37</td>\n",
       "      <td>100.91</td>\n",
       "      <td>100.867301</td>\n",
       "      <td>0</td>\n",
       "      <td>0</td>\n",
       "      <td>700.37</td>\n",
       "      <td>0.08</td>\n",
       "      <td>-9.007613</td>\n",
       "      <td>1</td>\n",
       "    </tr>\n",
       "    <tr>\n",
       "      <th>13.10.2008</th>\n",
       "      <td>26.0695</td>\n",
       "      <td>743.23</td>\n",
       "      <td>11.0</td>\n",
       "      <td>1.4</td>\n",
       "      <td>700.37</td>\n",
       "      <td>666.37</td>\n",
       "      <td>100.91</td>\n",
       "      <td>100.867301</td>\n",
       "      <td>1</td>\n",
       "      <td>0</td>\n",
       "      <td>-34.00</td>\n",
       "      <td>0.08</td>\n",
       "      <td>-9.007613</td>\n",
       "      <td>1</td>\n",
       "    </tr>\n",
       "    <tr>\n",
       "      <th>14.10.2008</th>\n",
       "      <td>26.1111</td>\n",
       "      <td>726.16</td>\n",
       "      <td>11.0</td>\n",
       "      <td>1.4</td>\n",
       "      <td>666.81</td>\n",
       "      <td>755.22</td>\n",
       "      <td>100.91</td>\n",
       "      <td>100.867301</td>\n",
       "      <td>0</td>\n",
       "      <td>1</td>\n",
       "      <td>88.41</td>\n",
       "      <td>0.08</td>\n",
       "      <td>-9.007613</td>\n",
       "      <td>1</td>\n",
       "    </tr>\n",
       "    <tr>\n",
       "      <th>15.10.2008</th>\n",
       "      <td>26.0871</td>\n",
       "      <td>712.49</td>\n",
       "      <td>11.0</td>\n",
       "      <td>1.4</td>\n",
       "      <td>755.22</td>\n",
       "      <td>689.71</td>\n",
       "      <td>100.91</td>\n",
       "      <td>100.867301</td>\n",
       "      <td>0</td>\n",
       "      <td>0</td>\n",
       "      <td>-65.51</td>\n",
       "      <td>0.08</td>\n",
       "      <td>-9.007613</td>\n",
       "      <td>1</td>\n",
       "    </tr>\n",
       "  </tbody>\n",
       "</table>\n",
       "</div>"
      ],
      "text/plain": [
       "             usdrub    gold  cb_key_rate  fed_rate  imoex_open  imoex_close  \\\n",
       "09.10.2008  26.1629  767.98         11.0       1.4      637.93       700.37   \n",
       "10.10.2008  26.0695  743.23         11.0       1.4        0.00       700.37   \n",
       "13.10.2008  26.0695  743.23         11.0       1.4      700.37       666.37   \n",
       "14.10.2008  26.1111  726.16         11.0       1.4      666.81       755.22   \n",
       "15.10.2008  26.0871  712.49         11.0       1.4      755.22       689.71   \n",
       "\n",
       "            ru_cpi      us_cpi  first_workday  second_workday  imoex_vol  \\\n",
       "09.10.2008  100.91  100.867301              0               0      62.44   \n",
       "10.10.2008  100.91  100.867301              0               0     700.37   \n",
       "13.10.2008  100.91  100.867301              1               0     -34.00   \n",
       "14.10.2008  100.91  100.867301              0               1      88.41   \n",
       "15.10.2008  100.91  100.867301              0               0     -65.51   \n",
       "\n",
       "            ru_monetary  us_monetary  workday  \n",
       "09.10.2008         0.08    -9.007613        1  \n",
       "10.10.2008         0.08    -9.007613        1  \n",
       "13.10.2008         0.08    -9.007613        1  \n",
       "14.10.2008         0.08    -9.007613        1  \n",
       "15.10.2008         0.08    -9.007613        1  "
      ]
     },
     "execution_count": 3,
     "metadata": {},
     "output_type": "execute_result"
    }
   ],
   "source": [
    "# поскольку категориальная переменная бинарна, можно не увеличивать размерность и оставить всё в одной колонке\n",
    "df_ml = pd.get_dummies(df, drop_first=True)\n",
    "\n",
    "# так как название задваивается, вернем его к нормальному виду\n",
    "df_ml.rename(columns={'workday_workday': 'workday'}, inplace=True)\n",
    "\n",
    "df_ml.head()"
   ]
  },
  {
   "cell_type": "markdown",
   "id": "17a95bd1",
   "metadata": {},
   "source": [
    "### Разделение выборки на тестовую и обучающую"
   ]
  },
  {
   "cell_type": "code",
   "execution_count": 4,
   "id": "48c22dc7",
   "metadata": {},
   "outputs": [],
   "source": [
    "from sklearn.model_selection import train_test_split"
   ]
  },
  {
   "cell_type": "code",
   "execution_count": 5,
   "id": "bb2fb4c9",
   "metadata": {},
   "outputs": [],
   "source": [
    "y = df_ml['usdrub']\n",
    "X = df_ml.drop(columns=['usdrub'])\n",
    "\n",
    "X_train, X_test, y_train, y_test = train_test_split(X, y, random_state=7, test_size=0.2)"
   ]
  },
  {
   "cell_type": "markdown",
   "id": "1ffbed71",
   "metadata": {},
   "source": [
    "### Масштабирование признаков\n",
    "\n",
    "Выберем, при помощи чего масштабировать данные:\n",
    "- **StandardScaler**: \n",
    "    - Плюсы: учитывает и сохраняет специфику данных\n",
    "    - Минусы: предполагает нормальное распределение. Как можно увидеть на графиках в [step04](https://github.com/evelinakolomoets/andan_project/blob/main/step04_plots.ipynb), наши данные не распределены по нормальному закону\n",
    "    - **Вывод**: скорее не подходит\n",
    "- **MinMaxScaler**:\n",
    "    - Плюсы: интуитивно понятно\n",
    "    - Минусы: может потеряться информация, связанная со спецификой данных\n",
    "    - **Вывод**: скорее не подходит\n",
    "\n",
    "- **RobustScaler**:\n",
    "    - Плюсы: хорошо работает с асимметрией в данных (как видно на [графиках](https://github.com/evelinakolomoets/andan_project/blob/main/step04_plots.ipynb), она присутствует в нашем датасете)\n",
    "    - Минусы: никак не учитываются среднее и медиана\n",
    "    - **Вывод**: подходит лучше, чем первые два варианта\n"
   ]
  },
  {
   "cell_type": "code",
   "execution_count": 6,
   "id": "f73a91fe",
   "metadata": {},
   "outputs": [],
   "source": [
    "from sklearn.preprocessing import RobustScaler"
   ]
  },
  {
   "cell_type": "code",
   "execution_count": 7,
   "id": "232a55fd",
   "metadata": {},
   "outputs": [],
   "source": [
    "scaler = RobustScaler()\n",
    "\n",
    "X_train_norm = scaler.fit_transform(X_train)\n",
    "X_test_norm = scaler.transform(X_test)"
   ]
  }
 ],
 "metadata": {
  "kernelspec": {
   "display_name": "Python 3 (ipykernel)",
   "language": "python",
   "name": "python3"
  },
  "language_info": {
   "codemirror_mode": {
    "name": "ipython",
    "version": 3
   },
   "file_extension": ".py",
   "mimetype": "text/x-python",
   "name": "python",
   "nbconvert_exporter": "python",
   "pygments_lexer": "ipython3",
   "version": "3.9.7"
  }
 },
 "nbformat": 4,
 "nbformat_minor": 5
}
