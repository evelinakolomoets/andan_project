{
 "cells": [
  {
   "cell_type": "markdown",
   "id": "df0a3b40",
   "metadata": {},
   "source": [
    "## Проверка гипотез"
   ]
  },
  {
   "cell_type": "code",
   "execution_count": 1,
   "id": "51ca1094",
   "metadata": {},
   "outputs": [],
   "source": [
    "import pandas as pd\n",
    "import matplotlib.pyplot as plt\n",
    "\n",
    "from scipy import stats\n",
    "import statsmodels as sts \n",
    "\n",
    "import seaborn as sns\n",
    "import numpy as np"
   ]
  },
  {
   "cell_type": "code",
   "execution_count": 2,
   "id": "d7ea731f",
   "metadata": {},
   "outputs": [
    {
     "data": {
      "text/html": [
       "<div>\n",
       "<style scoped>\n",
       "    .dataframe tbody tr th:only-of-type {\n",
       "        vertical-align: middle;\n",
       "    }\n",
       "\n",
       "    .dataframe tbody tr th {\n",
       "        vertical-align: top;\n",
       "    }\n",
       "\n",
       "    .dataframe thead th {\n",
       "        text-align: right;\n",
       "    }\n",
       "</style>\n",
       "<table border=\"1\" class=\"dataframe\">\n",
       "  <thead>\n",
       "    <tr style=\"text-align: right;\">\n",
       "      <th></th>\n",
       "      <th>usdrub</th>\n",
       "      <th>gold</th>\n",
       "      <th>cb_key_rate</th>\n",
       "      <th>fed_rate</th>\n",
       "      <th>imoex_open</th>\n",
       "      <th>imoex_close</th>\n",
       "      <th>ru_cpi</th>\n",
       "      <th>us_cpi</th>\n",
       "      <th>workday</th>\n",
       "      <th>first_workday</th>\n",
       "      <th>second_workday</th>\n",
       "    </tr>\n",
       "  </thead>\n",
       "  <tbody>\n",
       "    <tr>\n",
       "      <th>09.10.2008</th>\n",
       "      <td>26.1629</td>\n",
       "      <td>767.98</td>\n",
       "      <td>11.0</td>\n",
       "      <td>1.40</td>\n",
       "      <td>637.93</td>\n",
       "      <td>700.37</td>\n",
       "      <td>100.91</td>\n",
       "      <td>100.867301</td>\n",
       "      <td>workday</td>\n",
       "      <td>0</td>\n",
       "      <td>0</td>\n",
       "    </tr>\n",
       "    <tr>\n",
       "      <th>10.10.2008</th>\n",
       "      <td>26.0695</td>\n",
       "      <td>743.23</td>\n",
       "      <td>11.0</td>\n",
       "      <td>1.40</td>\n",
       "      <td>0.00</td>\n",
       "      <td>700.37</td>\n",
       "      <td>100.91</td>\n",
       "      <td>100.867301</td>\n",
       "      <td>workday</td>\n",
       "      <td>0</td>\n",
       "      <td>0</td>\n",
       "    </tr>\n",
       "    <tr>\n",
       "      <th>13.10.2008</th>\n",
       "      <td>26.0695</td>\n",
       "      <td>743.23</td>\n",
       "      <td>11.0</td>\n",
       "      <td>1.40</td>\n",
       "      <td>700.37</td>\n",
       "      <td>666.37</td>\n",
       "      <td>100.91</td>\n",
       "      <td>100.867301</td>\n",
       "      <td>workday</td>\n",
       "      <td>1</td>\n",
       "      <td>0</td>\n",
       "    </tr>\n",
       "    <tr>\n",
       "      <th>14.10.2008</th>\n",
       "      <td>26.1111</td>\n",
       "      <td>726.16</td>\n",
       "      <td>11.0</td>\n",
       "      <td>1.40</td>\n",
       "      <td>666.81</td>\n",
       "      <td>755.22</td>\n",
       "      <td>100.91</td>\n",
       "      <td>100.867301</td>\n",
       "      <td>workday</td>\n",
       "      <td>0</td>\n",
       "      <td>1</td>\n",
       "    </tr>\n",
       "    <tr>\n",
       "      <th>15.10.2008</th>\n",
       "      <td>26.0871</td>\n",
       "      <td>712.49</td>\n",
       "      <td>11.0</td>\n",
       "      <td>1.40</td>\n",
       "      <td>755.22</td>\n",
       "      <td>689.71</td>\n",
       "      <td>100.91</td>\n",
       "      <td>100.867301</td>\n",
       "      <td>workday</td>\n",
       "      <td>0</td>\n",
       "      <td>0</td>\n",
       "    </tr>\n",
       "    <tr>\n",
       "      <th>...</th>\n",
       "      <td>...</td>\n",
       "      <td>...</td>\n",
       "      <td>...</td>\n",
       "      <td>...</td>\n",
       "      <td>...</td>\n",
       "      <td>...</td>\n",
       "      <td>...</td>\n",
       "      <td>...</td>\n",
       "      <td>...</td>\n",
       "      <td>...</td>\n",
       "      <td>...</td>\n",
       "    </tr>\n",
       "    <tr>\n",
       "      <th>22.02.2023</th>\n",
       "      <td>74.8596</td>\n",
       "      <td>4442.45</td>\n",
       "      <td>7.5</td>\n",
       "      <td>4.65</td>\n",
       "      <td>2215.43</td>\n",
       "      <td>2212.40</td>\n",
       "      <td>100.46</td>\n",
       "      <td>99.631358</td>\n",
       "      <td>workday</td>\n",
       "      <td>0</td>\n",
       "      <td>0</td>\n",
       "    </tr>\n",
       "    <tr>\n",
       "      <th>24.02.2023</th>\n",
       "      <td>74.8596</td>\n",
       "      <td>4442.45</td>\n",
       "      <td>7.5</td>\n",
       "      <td>4.65</td>\n",
       "      <td>2209.10</td>\n",
       "      <td>2208.03</td>\n",
       "      <td>100.46</td>\n",
       "      <td>99.631358</td>\n",
       "      <td>day off</td>\n",
       "      <td>0</td>\n",
       "      <td>0</td>\n",
       "    </tr>\n",
       "    <tr>\n",
       "      <th>27.02.2023</th>\n",
       "      <td>74.8596</td>\n",
       "      <td>4442.45</td>\n",
       "      <td>7.5</td>\n",
       "      <td>4.65</td>\n",
       "      <td>2194.39</td>\n",
       "      <td>2241.10</td>\n",
       "      <td>100.46</td>\n",
       "      <td>99.631358</td>\n",
       "      <td>workday</td>\n",
       "      <td>1</td>\n",
       "      <td>0</td>\n",
       "    </tr>\n",
       "    <tr>\n",
       "      <th>28.02.2023</th>\n",
       "      <td>75.4323</td>\n",
       "      <td>4391.92</td>\n",
       "      <td>7.5</td>\n",
       "      <td>4.65</td>\n",
       "      <td>2246.26</td>\n",
       "      <td>2253.16</td>\n",
       "      <td>100.46</td>\n",
       "      <td>99.631358</td>\n",
       "      <td>workday</td>\n",
       "      <td>0</td>\n",
       "      <td>1</td>\n",
       "    </tr>\n",
       "    <tr>\n",
       "      <th>01.03.2023</th>\n",
       "      <td>74.8932</td>\n",
       "      <td>4379.07</td>\n",
       "      <td>7.5</td>\n",
       "      <td>4.65</td>\n",
       "      <td>2258.89</td>\n",
       "      <td>2279.65</td>\n",
       "      <td>100.37</td>\n",
       "      <td>99.946986</td>\n",
       "      <td>workday</td>\n",
       "      <td>0</td>\n",
       "      <td>0</td>\n",
       "    </tr>\n",
       "  </tbody>\n",
       "</table>\n",
       "<p>3600 rows × 11 columns</p>\n",
       "</div>"
      ],
      "text/plain": [
       "             usdrub     gold  cb_key_rate  fed_rate  imoex_open  imoex_close  \\\n",
       "09.10.2008  26.1629   767.98         11.0      1.40      637.93       700.37   \n",
       "10.10.2008  26.0695   743.23         11.0      1.40        0.00       700.37   \n",
       "13.10.2008  26.0695   743.23         11.0      1.40      700.37       666.37   \n",
       "14.10.2008  26.1111   726.16         11.0      1.40      666.81       755.22   \n",
       "15.10.2008  26.0871   712.49         11.0      1.40      755.22       689.71   \n",
       "...             ...      ...          ...       ...         ...          ...   \n",
       "22.02.2023  74.8596  4442.45          7.5      4.65     2215.43      2212.40   \n",
       "24.02.2023  74.8596  4442.45          7.5      4.65     2209.10      2208.03   \n",
       "27.02.2023  74.8596  4442.45          7.5      4.65     2194.39      2241.10   \n",
       "28.02.2023  75.4323  4391.92          7.5      4.65     2246.26      2253.16   \n",
       "01.03.2023  74.8932  4379.07          7.5      4.65     2258.89      2279.65   \n",
       "\n",
       "            ru_cpi      us_cpi  workday  first_workday  second_workday  \n",
       "09.10.2008  100.91  100.867301  workday              0               0  \n",
       "10.10.2008  100.91  100.867301  workday              0               0  \n",
       "13.10.2008  100.91  100.867301  workday              1               0  \n",
       "14.10.2008  100.91  100.867301  workday              0               1  \n",
       "15.10.2008  100.91  100.867301  workday              0               0  \n",
       "...            ...         ...      ...            ...             ...  \n",
       "22.02.2023  100.46   99.631358  workday              0               0  \n",
       "24.02.2023  100.46   99.631358  day off              0               0  \n",
       "27.02.2023  100.46   99.631358  workday              1               0  \n",
       "28.02.2023  100.46   99.631358  workday              0               1  \n",
       "01.03.2023  100.37   99.946986  workday              0               0  \n",
       "\n",
       "[3600 rows x 11 columns]"
      ]
     },
     "execution_count": 2,
     "metadata": {},
     "output_type": "execute_result"
    }
   ],
   "source": [
    "df = pd.read_csv('df_after_step3.csv', index_col = 0)\n",
    "df"
   ]
  },
  {
   "cell_type": "markdown",
   "id": "24f21bd3",
   "metadata": {},
   "source": [
    "### Первая гипотеза\n",
    "#### Разница между ценой открытия и закрытия IMOEX стастистически не значима\n",
    "\n",
    "(Здесь и далее - уровень значимости равен 0,05)\n",
    "\n",
    "H₀ : μₓ = μᵧ\n",
    "\n",
    "H₁ : μₓ ≠ μᵧ ,\n",
    "\n",
    "где μₓ - Математическое ожидание цены открытия, μᵧ - Математическое ожидание цены закрытия\n",
    "\n",
    "Также важно упомянуть, что истинные дисперсии двух значений нам неизвестна, но мы принимаем их равными друг другу."
   ]
  },
  {
   "cell_type": "code",
   "execution_count": 8,
   "id": "b1fa215d",
   "metadata": {},
   "outputs": [],
   "source": [
    "var_im_open = df.imoex_open.var()\n",
    "var_im_close = df.imoex_close.var()  \n",
    "                                                # Вычисляем несмещённую дисперсию и среднее по нашим данным\n",
    "mean_im_open = df.imoex_open.mean()\n",
    "mean_im_close = df.imoex_close.mean()\n",
    "\n",
    "n_im_open = len(df.imoex_open)                  # Для формальности, посчитаем количество и тех и тех наблюдений\n",
    "n_im_close = len(df.imoex_close)"
   ]
  },
  {
   "cell_type": "code",
   "execution_count": 10,
   "id": "d98a6276",
   "metadata": {},
   "outputs": [],
   "source": [
    "# Подсчитываем дисперсию для t-статистики\n",
    "var_im_0 = ((n_im_open - 1)*var_im_open + (n_im_close - 1)*var_im_close)/ (n_im_open + n_im_close -2)"
   ]
  },
  {
   "cell_type": "code",
   "execution_count": 29,
   "id": "d8d3e9c1",
   "metadata": {},
   "outputs": [
    {
     "data": {
      "text/plain": [
       "-0.0033809906402160438"
      ]
     },
     "execution_count": 29,
     "metadata": {},
     "output_type": "execute_result"
    }
   ],
   "source": [
    "t_stat_im = (mean_im_open - mean_im_close)/(((1/n_im_open + 1/n_im_close)*var_im_0)*(1/2))\n",
    "t_stat_im"
   ]
  },
  {
   "cell_type": "code",
   "execution_count": 36,
   "id": "3d8f1df8",
   "metadata": {},
   "outputs": [],
   "source": [
    "alpha = 0.05\n",
    "t_crit_1 = stats.t.ppf(1 - alpha/2, df=n_im_open+n_im_close-2) # Посчитали критические значения для выбранного уровня значимости\n",
    "t_crit_2 = - stats.t.ppf(1 - alpha/2, df=n_im_open+n_im_close-2)"
   ]
  },
  {
   "cell_type": "markdown",
   "id": "ca54f121",
   "metadata": {},
   "source": [
    "#### t-статистика приблизительно равна нулю, из чего почти сразу можно сделать вывод, но для наглядности нарисуем график"
   ]
  },
  {
   "cell_type": "code",
   "execution_count": 62,
   "id": "90450934",
   "metadata": {},
   "outputs": [
    {
     "data": {
      "image/png": "[encoded data removed]",
      "text/plain": [
       "<Figure size 1080x648 with 1 Axes>"
      ]
     },
     "metadata": {
      "needs_background": "light"
     },
     "output_type": "display_data"
    }
   ],
   "source": [
    "fig, ax = plt.subplots(figsize = (15, 9))\n",
    "\n",
    "x = np.linspace(-3, 3, 100)\n",
    "ax.plot(x, stats.t.pdf(x, df=n_im_open+n_im_close-2));\n",
    "plt.ylabel('f(x)', fontsize=20);\n",
    "plt.xlabel('x', fontsize=20);\n",
    "\n",
    "plt.axvline(t_stat_im, color='blue', linestyle=\"--\", lw=2);\n",
    "plt.axvline(t_crit_1, color='red', linestyle=\"--\", lw=2);\n",
    "plt.axvline(t_crit_2, color='red', linestyle=\"--\", lw=2);\n",
    "\n",
    "plt.text(t_crit_2 - 0.4, 0.3, round(t_crit_1,2), color='red', fontsize=16);\n",
    "plt.text(t_crit_1 + 0.2, 0.3, round(t_crit_1,2), color='red', fontsize=16);\n",
    "plt.text(t_stat_im - 0.6, 0.3, round(t_stat_im,4), color='blue', fontsize=16);"
   ]
  },
  {
   "cell_type": "markdown",
   "id": "0110fb8d",
   "metadata": {},
   "source": [
    "### Из графика можем видеть, что полученная статистика не попадает в критическую область при выбранном нами уровне значимости (да и при любом адекватном уровне), а следовательно нулевая гипотеза подтвердилась, то есть, разница между ценой открытия и закрытия IMOEX действительно статистически незначима"
   ]
  },
  {
   "cell_type": "code",
   "execution_count": null,
   "id": "3ef284fc",
   "metadata": {},
   "outputs": [],
   "source": []
  },
  {
   "cell_type": "code",
   "execution_count": null,
   "id": "75df8d20",
   "metadata": {},
   "outputs": [],
   "source": []
  },
  {
   "cell_type": "code",
   "execution_count": null,
   "id": "a0b48b4d",
   "metadata": {},
   "outputs": [],
   "source": []
  },
  {
   "cell_type": "code",
   "execution_count": null,
   "id": "3c221cc3",
   "metadata": {},
   "outputs": [],
   "source": []
  },
  {
   "cell_type": "code",
   "execution_count": null,
   "id": "54459f86",
   "metadata": {},
   "outputs": [],
   "source": []
  },
  {
   "cell_type": "code",
   "execution_count": null,
   "id": "d64b558d",
   "metadata": {},
   "outputs": [],
   "source": []
  },
  {
   "cell_type": "code",
   "execution_count": null,
   "id": "ca876dd2",
   "metadata": {},
   "outputs": [],
   "source": []
  },
  {
   "cell_type": "code",
   "execution_count": null,
   "id": "61787b4a",
   "metadata": {},
   "outputs": [],
   "source": []
  },
  {
   "cell_type": "code",
   "execution_count": null,
   "id": "6f55cf08",
   "metadata": {},
   "outputs": [],
   "source": []
  }
 ],
 "metadata": {
  "kernelspec": {
   "display_name": "Python 3 (ipykernel)",
   "language": "python",
   "name": "python3"
  },
  "language_info": {
   "codemirror_mode": {
    "name": "ipython",
    "version": 3
   },
   "file_extension": ".py",
   "mimetype": "text/x-python",
   "name": "python",
   "nbconvert_exporter": "python",
   "pygments_lexer": "ipython3",
   "version": "3.9.7"
  }
 },
 "nbformat": 4,
 "nbformat_minor": 5
}
