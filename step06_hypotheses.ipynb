{
 "cells": [
  {
   "cell_type": "markdown",
   "id": "df0a3b40",
   "metadata": {},
   "source": [
    "# Шаг 6. Проверка гипотез"
   ]
  },
  {
   "cell_type": "markdown",
   "id": "c96e060f",
   "metadata": {},
   "source": [
    "### Импорт необходимых библиотек"
   ]
  },
  {
   "cell_type": "code",
   "execution_count": 1,
   "id": "51ca1094",
   "metadata": {},
   "outputs": [],
   "source": [
    "import pandas as pd\n",
    "import numpy as np\n",
    "\n",
    "from scipy import stats\n",
    "import statsmodels as sts \n",
    "\n",
    "import seaborn as sns\n",
    "import matplotlib.pyplot as plt"
   ]
  },
  {
   "cell_type": "markdown",
   "id": "98a2f67d",
   "metadata": {},
   "source": [
    "## Импорт датафрейма"
   ]
  },
  {
   "cell_type": "code",
   "execution_count": 2,
   "id": "d7ea731f",
   "metadata": {},
   "outputs": [
    {
     "data": {
      "text/html": [
       "<div>\n",
       "<style scoped>\n",
       "    .dataframe tbody tr th:only-of-type {\n",
       "        vertical-align: middle;\n",
       "    }\n",
       "\n",
       "    .dataframe tbody tr th {\n",
       "        vertical-align: top;\n",
       "    }\n",
       "\n",
       "    .dataframe thead th {\n",
       "        text-align: right;\n",
       "    }\n",
       "</style>\n",
       "<table border=\"1\" class=\"dataframe\">\n",
       "  <thead>\n",
       "    <tr style=\"text-align: right;\">\n",
       "      <th></th>\n",
       "      <th>usdrub</th>\n",
       "      <th>gold</th>\n",
       "      <th>cb_key_rate</th>\n",
       "      <th>fed_rate</th>\n",
       "      <th>imoex_open</th>\n",
       "      <th>imoex_close</th>\n",
       "      <th>ru_cpi</th>\n",
       "      <th>us_cpi</th>\n",
       "      <th>workday</th>\n",
       "      <th>first_workday</th>\n",
       "      <th>second_workday</th>\n",
       "      <th>imoex_vol</th>\n",
       "      <th>ru_monetary</th>\n",
       "      <th>us_monetary</th>\n",
       "    </tr>\n",
       "  </thead>\n",
       "  <tbody>\n",
       "    <tr>\n",
       "      <th>09.10.2008</th>\n",
       "      <td>26.1629</td>\n",
       "      <td>767.98</td>\n",
       "      <td>11.0</td>\n",
       "      <td>1.40</td>\n",
       "      <td>637.93</td>\n",
       "      <td>700.37</td>\n",
       "      <td>100.91</td>\n",
       "      <td>100.867301</td>\n",
       "      <td>workday</td>\n",
       "      <td>0</td>\n",
       "      <td>0</td>\n",
       "      <td>62.44</td>\n",
       "      <td>0.08</td>\n",
       "      <td>-9.007613</td>\n",
       "    </tr>\n",
       "    <tr>\n",
       "      <th>10.10.2008</th>\n",
       "      <td>26.0695</td>\n",
       "      <td>743.23</td>\n",
       "      <td>11.0</td>\n",
       "      <td>1.40</td>\n",
       "      <td>0.00</td>\n",
       "      <td>700.37</td>\n",
       "      <td>100.91</td>\n",
       "      <td>100.867301</td>\n",
       "      <td>workday</td>\n",
       "      <td>0</td>\n",
       "      <td>0</td>\n",
       "      <td>700.37</td>\n",
       "      <td>0.08</td>\n",
       "      <td>-9.007613</td>\n",
       "    </tr>\n",
       "    <tr>\n",
       "      <th>13.10.2008</th>\n",
       "      <td>26.0695</td>\n",
       "      <td>743.23</td>\n",
       "      <td>11.0</td>\n",
       "      <td>1.40</td>\n",
       "      <td>700.37</td>\n",
       "      <td>666.37</td>\n",
       "      <td>100.91</td>\n",
       "      <td>100.867301</td>\n",
       "      <td>workday</td>\n",
       "      <td>1</td>\n",
       "      <td>0</td>\n",
       "      <td>-34.00</td>\n",
       "      <td>0.08</td>\n",
       "      <td>-9.007613</td>\n",
       "    </tr>\n",
       "    <tr>\n",
       "      <th>14.10.2008</th>\n",
       "      <td>26.1111</td>\n",
       "      <td>726.16</td>\n",
       "      <td>11.0</td>\n",
       "      <td>1.40</td>\n",
       "      <td>666.81</td>\n",
       "      <td>755.22</td>\n",
       "      <td>100.91</td>\n",
       "      <td>100.867301</td>\n",
       "      <td>workday</td>\n",
       "      <td>0</td>\n",
       "      <td>1</td>\n",
       "      <td>88.41</td>\n",
       "      <td>0.08</td>\n",
       "      <td>-9.007613</td>\n",
       "    </tr>\n",
       "    <tr>\n",
       "      <th>15.10.2008</th>\n",
       "      <td>26.0871</td>\n",
       "      <td>712.49</td>\n",
       "      <td>11.0</td>\n",
       "      <td>1.40</td>\n",
       "      <td>755.22</td>\n",
       "      <td>689.71</td>\n",
       "      <td>100.91</td>\n",
       "      <td>100.867301</td>\n",
       "      <td>workday</td>\n",
       "      <td>0</td>\n",
       "      <td>0</td>\n",
       "      <td>-65.51</td>\n",
       "      <td>0.08</td>\n",
       "      <td>-9.007613</td>\n",
       "    </tr>\n",
       "    <tr>\n",
       "      <th>...</th>\n",
       "      <td>...</td>\n",
       "      <td>...</td>\n",
       "      <td>...</td>\n",
       "      <td>...</td>\n",
       "      <td>...</td>\n",
       "      <td>...</td>\n",
       "      <td>...</td>\n",
       "      <td>...</td>\n",
       "      <td>...</td>\n",
       "      <td>...</td>\n",
       "      <td>...</td>\n",
       "      <td>...</td>\n",
       "      <td>...</td>\n",
       "      <td>...</td>\n",
       "    </tr>\n",
       "    <tr>\n",
       "      <th>22.02.2023</th>\n",
       "      <td>74.8596</td>\n",
       "      <td>4442.45</td>\n",
       "      <td>7.5</td>\n",
       "      <td>4.65</td>\n",
       "      <td>2215.43</td>\n",
       "      <td>2212.40</td>\n",
       "      <td>100.46</td>\n",
       "      <td>99.631358</td>\n",
       "      <td>workday</td>\n",
       "      <td>0</td>\n",
       "      <td>0</td>\n",
       "      <td>-3.03</td>\n",
       "      <td>1.98</td>\n",
       "      <td>9.073699</td>\n",
       "    </tr>\n",
       "    <tr>\n",
       "      <th>24.02.2023</th>\n",
       "      <td>74.8596</td>\n",
       "      <td>4442.45</td>\n",
       "      <td>7.5</td>\n",
       "      <td>4.65</td>\n",
       "      <td>2209.10</td>\n",
       "      <td>2208.03</td>\n",
       "      <td>100.46</td>\n",
       "      <td>99.631358</td>\n",
       "      <td>day off</td>\n",
       "      <td>0</td>\n",
       "      <td>0</td>\n",
       "      <td>-1.07</td>\n",
       "      <td>1.98</td>\n",
       "      <td>9.073699</td>\n",
       "    </tr>\n",
       "    <tr>\n",
       "      <th>27.02.2023</th>\n",
       "      <td>74.8596</td>\n",
       "      <td>4442.45</td>\n",
       "      <td>7.5</td>\n",
       "      <td>4.65</td>\n",
       "      <td>2194.39</td>\n",
       "      <td>2241.10</td>\n",
       "      <td>100.46</td>\n",
       "      <td>99.631358</td>\n",
       "      <td>workday</td>\n",
       "      <td>1</td>\n",
       "      <td>0</td>\n",
       "      <td>46.71</td>\n",
       "      <td>1.98</td>\n",
       "      <td>9.073699</td>\n",
       "    </tr>\n",
       "    <tr>\n",
       "      <th>28.02.2023</th>\n",
       "      <td>75.4323</td>\n",
       "      <td>4391.92</td>\n",
       "      <td>7.5</td>\n",
       "      <td>4.65</td>\n",
       "      <td>2246.26</td>\n",
       "      <td>2253.16</td>\n",
       "      <td>100.46</td>\n",
       "      <td>99.631358</td>\n",
       "      <td>workday</td>\n",
       "      <td>0</td>\n",
       "      <td>1</td>\n",
       "      <td>6.90</td>\n",
       "      <td>1.98</td>\n",
       "      <td>9.073699</td>\n",
       "    </tr>\n",
       "    <tr>\n",
       "      <th>01.03.2023</th>\n",
       "      <td>74.8932</td>\n",
       "      <td>4379.07</td>\n",
       "      <td>7.5</td>\n",
       "      <td>4.65</td>\n",
       "      <td>2258.89</td>\n",
       "      <td>2279.65</td>\n",
       "      <td>100.37</td>\n",
       "      <td>99.946986</td>\n",
       "      <td>workday</td>\n",
       "      <td>0</td>\n",
       "      <td>0</td>\n",
       "      <td>20.76</td>\n",
       "      <td>3.06</td>\n",
       "      <td>5.286166</td>\n",
       "    </tr>\n",
       "  </tbody>\n",
       "</table>\n",
       "<p>3600 rows × 14 columns</p>\n",
       "</div>"
      ],
      "text/plain": [
       "             usdrub     gold  cb_key_rate  fed_rate  imoex_open  imoex_close  \\\n",
       "09.10.2008  26.1629   767.98         11.0      1.40      637.93       700.37   \n",
       "10.10.2008  26.0695   743.23         11.0      1.40        0.00       700.37   \n",
       "13.10.2008  26.0695   743.23         11.0      1.40      700.37       666.37   \n",
       "14.10.2008  26.1111   726.16         11.0      1.40      666.81       755.22   \n",
       "15.10.2008  26.0871   712.49         11.0      1.40      755.22       689.71   \n",
       "...             ...      ...          ...       ...         ...          ...   \n",
       "22.02.2023  74.8596  4442.45          7.5      4.65     2215.43      2212.40   \n",
       "24.02.2023  74.8596  4442.45          7.5      4.65     2209.10      2208.03   \n",
       "27.02.2023  74.8596  4442.45          7.5      4.65     2194.39      2241.10   \n",
       "28.02.2023  75.4323  4391.92          7.5      4.65     2246.26      2253.16   \n",
       "01.03.2023  74.8932  4379.07          7.5      4.65     2258.89      2279.65   \n",
       "\n",
       "            ru_cpi      us_cpi  workday  first_workday  second_workday  \\\n",
       "09.10.2008  100.91  100.867301  workday              0               0   \n",
       "10.10.2008  100.91  100.867301  workday              0               0   \n",
       "13.10.2008  100.91  100.867301  workday              1               0   \n",
       "14.10.2008  100.91  100.867301  workday              0               1   \n",
       "15.10.2008  100.91  100.867301  workday              0               0   \n",
       "...            ...         ...      ...            ...             ...   \n",
       "22.02.2023  100.46   99.631358  workday              0               0   \n",
       "24.02.2023  100.46   99.631358  day off              0               0   \n",
       "27.02.2023  100.46   99.631358  workday              1               0   \n",
       "28.02.2023  100.46   99.631358  workday              0               1   \n",
       "01.03.2023  100.37   99.946986  workday              0               0   \n",
       "\n",
       "            imoex_vol  ru_monetary  us_monetary  \n",
       "09.10.2008      62.44         0.08    -9.007613  \n",
       "10.10.2008     700.37         0.08    -9.007613  \n",
       "13.10.2008     -34.00         0.08    -9.007613  \n",
       "14.10.2008      88.41         0.08    -9.007613  \n",
       "15.10.2008     -65.51         0.08    -9.007613  \n",
       "...               ...          ...          ...  \n",
       "22.02.2023      -3.03         1.98     9.073699  \n",
       "24.02.2023      -1.07         1.98     9.073699  \n",
       "27.02.2023      46.71         1.98     9.073699  \n",
       "28.02.2023       6.90         1.98     9.073699  \n",
       "01.03.2023      20.76         3.06     5.286166  \n",
       "\n",
       "[3600 rows x 14 columns]"
      ]
     },
     "execution_count": 2,
     "metadata": {},
     "output_type": "execute_result"
    }
   ],
   "source": [
    "df = pd.read_csv('df_after_step05.csv', index_col=0)\n",
    "df"
   ]
  },
  {
   "cell_type": "markdown",
   "id": "24f21bd3",
   "metadata": {},
   "source": [
    "### Первая гипотеза\n",
    "#### Разница между ценой открытия и закрытия IMOEX стастистически не значима\n",
    "\n",
    "(Здесь и далее - уровень значимости равен 0,05)\n",
    "\n",
    "H₀ : μₓ = μᵧ\n",
    "\n",
    "H₁ : μₓ ≠ μᵧ ,\n",
    "\n",
    "где μₓ - Математическое ожидание цены открытия, μᵧ - Математическое ожидание цены закрытия\n",
    "\n",
    "Также важно упомянуть, что истинные дисперсии двух значений нам неизвестна, но мы принимаем их равными друг другу."
   ]
  },
  {
   "cell_type": "code",
   "execution_count": 3,
   "id": "eaf05103",
   "metadata": {},
   "outputs": [
    {
     "data": {
      "image/png": "[encoded data removed]",
      "text/plain": [
       "<Figure size 432x288 with 1 Axes>"
      ]
     },
     "metadata": {
      "needs_background": "light"
     },
     "output_type": "display_data"
    }
   ],
   "source": [
    "##Посмотрим на график разницы для проверки на нормальность\n",
    "\n",
    "diff = df.imoex_open - df.imoex_close\n",
    "plt.hist(diff, bins = 80);"
   ]
  },
  {
   "cell_type": "markdown",
   "id": "f538634e",
   "metadata": {},
   "source": [
    "Очень много выбросов, надо смотреть без них"
   ]
  },
  {
   "cell_type": "code",
   "execution_count": 4,
   "id": "dcd6ccd6",
   "metadata": {},
   "outputs": [
    {
     "data": {
      "image/png": "[encoded data removed]",
      "text/plain": [
       "<Figure size 432x288 with 1 Axes>"
      ]
     },
     "metadata": {
      "needs_background": "light"
     },
     "output_type": "display_data"
    }
   ],
   "source": [
    "diff_1 = diff[(diff<100) & (diff>-100)]\n",
    "plt.hist(diff_1, bins = 80);"
   ]
  },
  {
   "cell_type": "markdown",
   "id": "97738456",
   "metadata": {},
   "source": [
    "Похоже на нормальное, проверим чуть более тщательно"
   ]
  },
  {
   "cell_type": "code",
   "execution_count": 5,
   "id": "a1fd4067",
   "metadata": {},
   "outputs": [
    {
     "data": {
      "image/png": "[encoded data removed]",
      "text/plain": [
       "<Figure size 432x288 with 1 Axes>"
      ]
     },
     "metadata": {
      "needs_background": "light"
     },
     "output_type": "display_data"
    }
   ],
   "source": [
    "stats.probplot(diff_1, dist=\"norm\", plot=plt);"
   ]
  },
  {
   "cell_type": "markdown",
   "id": "55f3de55",
   "metadata": {},
   "source": [
    "Действительно похоже на нормальное, можно использовать t-test!"
   ]
  },
  {
   "cell_type": "code",
   "execution_count": 6,
   "id": "b1fa215d",
   "metadata": {},
   "outputs": [],
   "source": [
    "var_im_open = df.imoex_open.var()\n",
    "var_im_close = df.imoex_close.var()  \n",
    "\n",
    "# Вычисляем несмещённую дисперсию и среднее по нашим данным\n",
    "mean_im_open = df.imoex_open.mean()\n",
    "mean_im_close = df.imoex_close.mean()\n",
    "\n",
    " # Для формальности, посчитаем количество и тех и тех наблюдений\n",
    "n_im_open = len(df.imoex_open)                 \n",
    "n_im_close = len(df.imoex_close)"
   ]
  },
  {
   "cell_type": "code",
   "execution_count": 7,
   "id": "d98a6276",
   "metadata": {},
   "outputs": [],
   "source": [
    "# Подсчитываем дисперсию для t-статистики\n",
    "var_im_0 = ((n_im_open - 1)*var_im_open + (n_im_close - 1)*var_im_close)/ (n_im_open + n_im_close -2)"
   ]
  },
  {
   "cell_type": "code",
   "execution_count": 8,
   "id": "d8d3e9c1",
   "metadata": {},
   "outputs": [
    {
     "data": {
      "text/plain": [
       "-0.0033809906402160438"
      ]
     },
     "execution_count": 8,
     "metadata": {},
     "output_type": "execute_result"
    }
   ],
   "source": [
    "t_stat_im = (mean_im_open - mean_im_close)/(((1/n_im_open + 1/n_im_close)*var_im_0)*(1/2))\n",
    "t_stat_im"
   ]
  },
  {
   "cell_type": "code",
   "execution_count": 9,
   "id": "3d8f1df8",
   "metadata": {},
   "outputs": [],
   "source": [
    "alpha = 0.05\n",
    "# Посчитали критические значения для выбранного уровня значимости\n",
    "t_crit_1 = stats.t.ppf(1 - alpha/2, df=n_im_open+n_im_close-2) \n",
    "t_crit_2 = - stats.t.ppf(1 - alpha/2, df=n_im_open+n_im_close-2)"
   ]
  },
  {
   "cell_type": "code",
   "execution_count": 10,
   "id": "90450934",
   "metadata": {},
   "outputs": [
    {
     "data": {
      "image/png": "[encoded data removed]",
      "text/plain": [
       "<Figure size 1080x360 with 1 Axes>"
      ]
     },
     "metadata": {
      "needs_background": "light"
     },
     "output_type": "display_data"
    }
   ],
   "source": [
    "pal = sns.color_palette('husl', 3)\n",
    "\n",
    "fig, ax = plt.subplots(figsize = (15, 5))\n",
    "\n",
    "plt.title('Критическая область и наблюдаемое значение статистики')\n",
    "\n",
    "x = np.linspace(-3, 3, 100)\n",
    "ax.plot(x, stats.t.pdf(x, df=n_im_open+n_im_close-2), color=pal[2])\n",
    "plt.ylabel('f(x)', fontsize=12)\n",
    "plt.xlabel('x', fontsize=12)\n",
    "\n",
    "plt.axvline(t_stat_im, color=pal[0], linestyle=\"--\", lw=2)\n",
    "plt.axvline(t_crit_1, color=pal[1], linestyle=\"--\", lw=2)\n",
    "plt.axvline(t_crit_2, color=pal[1], linestyle=\"--\", lw=2)\n",
    "\n",
    "xq1 = np.linspace(-3, t_crit_2, 100)\n",
    "yq1 = stats.t.pdf(xq1, df = n_im_open+n_im_close-2)\n",
    "plt.fill_between(xq1, 0, yq1, color='green', alpha=0.1)\n",
    "xq2 = np.linspace(t_crit_1,3, 100)\n",
    "yq2 = stats.t.pdf(xq2, df = n_im_open+n_im_close-2)\n",
    "plt.fill_between(xq2, 0, yq2, color='green', alpha=0.1)\n",
    "\n",
    "crit = '$t_{crit}$'\n",
    "obs = '$t_{obs}$'\n",
    "plt.text(t_crit_2 - 0.5, 0.3, f'{crit}={round(t_crit_2,2)}', color=pal[1], fontsize=12)\n",
    "plt.text(t_crit_1 + 0.1, 0.3,  f'{crit}={round(t_crit_1,2)}', color=pal[1], fontsize=12)\n",
    "plt.text(t_stat_im - 0.65, 0.3, f'{obs}={round(t_stat_im,4)}', color=pal[0], fontsize=12);"
   ]
  },
  {
   "cell_type": "markdown",
   "id": "0110fb8d",
   "metadata": {},
   "source": [
    "> Из графика можем видеть, что полученная статистика не попадает в критическую область при выбранном нами уровне значимости (и при любом разумном уровне), а следовательно нулевая гипотеза не отвергается, то есть, разница между ценой открытия и закрытия IMOEX действительно статистически незначима"
   ]
  },
  {
   "cell_type": "markdown",
   "id": "b4135ece",
   "metadata": {},
   "source": [
    "### Вторая гипотеза\n",
    "#### Инфляции не существует\n",
    "\n",
    "Учитывая, что индекс потребительских цен по отношению к предыдущему месяцу слабо колеблется вокруг 100%, можно попробовать проверить интересную гипотезу, что увеличение этого индекса (то есть, инфляция) статистически не значимо.\n",
    "\n",
    "H₀ : μₓ = 100\n",
    "\n",
    "H₁ : μₓ > 100 ,\n",
    "\n",
    "где μₓ - Математическое ожидание индекса потребительских цен по отношению к предыдущему месяцу\n"
   ]
  },
  {
   "cell_type": "markdown",
   "id": "1693a2fe",
   "metadata": {},
   "source": [
    "##### Сначала проверим для России"
   ]
  },
  {
   "cell_type": "markdown",
   "id": "a79ccdcd",
   "metadata": {},
   "source": [
    "Сперва следует проверить данные на нормальность"
   ]
  },
  {
   "cell_type": "code",
   "execution_count": 11,
   "id": "63df88b5",
   "metadata": {
    "scrolled": false
   },
   "outputs": [
    {
     "data": {
      "image/png": "[encoded data removed]",
      "text/plain": [
       "<Figure size 432x288 with 1 Axes>"
      ]
     },
     "metadata": {
      "needs_background": "light"
     },
     "output_type": "display_data"
    }
   ],
   "source": [
    "plt.hist(df.ru_cpi, bins = 80);"
   ]
  },
  {
   "cell_type": "markdown",
   "id": "33cd8642",
   "metadata": {},
   "source": [
    "Немного напоминает, но есть выбросы. Надо посмотреть без них"
   ]
  },
  {
   "cell_type": "code",
   "execution_count": 12,
   "id": "e3b4cb4c",
   "metadata": {},
   "outputs": [
    {
     "data": {
      "image/png": "[encoded data removed]",
      "text/plain": [
       "<Figure size 432x288 with 1 Axes>"
      ]
     },
     "metadata": {
      "needs_background": "light"
     },
     "output_type": "display_data"
    }
   ],
   "source": [
    "plt.hist(df.ru_cpi.loc[df.ru_cpi<103], bins = 60);"
   ]
  },
  {
   "cell_type": "code",
   "execution_count": 13,
   "id": "b9efb53f",
   "metadata": {},
   "outputs": [
    {
     "data": {
      "image/png": "[encoded data removed]",
      "text/plain": [
       "<Figure size 432x288 with 1 Axes>"
      ]
     },
     "metadata": {
      "needs_background": "light"
     },
     "output_type": "display_data"
    }
   ],
   "source": [
    "stats.probplot(df.ru_cpi.loc[df.ru_cpi<103], dist=\"norm\", plot=plt);"
   ]
  },
  {
   "cell_type": "markdown",
   "id": "e0a57611",
   "metadata": {},
   "source": [
    "Всё же, как бы нам не хотелось, распределение не нормальное(\n",
    "\n",
    "Тогда будем использовать непараметрический тест Уилкоксона для одной выборки."
   ]
  },
  {
   "cell_type": "code",
   "execution_count": 14,
   "id": "42304c84",
   "metadata": {},
   "outputs": [
    {
     "name": "stdout",
     "output_type": "stream",
     "text": [
      "Гипотеза отвергается\n"
     ]
    }
   ],
   "source": [
    "stat, p_value = stats.wilcoxon(df.ru_cpi-100, alternative='greater')\n",
    "\n",
    "if p_value < alpha:\n",
    "    print('Гипотеза отвергается')\n",
    "else:\n",
    "    print('Гипотеза не отвергается')"
   ]
  },
  {
   "cell_type": "markdown",
   "id": "65e6320d",
   "metadata": {},
   "source": [
    "> Из того, что гипотеза отвергается, можно сделать вывод, что всё-таки инфляция в России не придумана экономистами и её значимость видна даже на ежемесячном уровне"
   ]
  },
  {
   "cell_type": "markdown",
   "id": "ba04e325",
   "metadata": {},
   "source": [
    "##### Теперь проверяем для Америки"
   ]
  },
  {
   "cell_type": "markdown",
   "id": "ba393375",
   "metadata": {},
   "source": [
    "Сперва следует проверить данные на нормальность"
   ]
  },
  {
   "cell_type": "code",
   "execution_count": 15,
   "id": "dc46c355",
   "metadata": {},
   "outputs": [
    {
     "data": {
      "image/png": "[encoded data removed]",
      "text/plain": [
       "<Figure size 432x288 with 1 Axes>"
      ]
     },
     "metadata": {
      "needs_background": "light"
     },
     "output_type": "display_data"
    }
   ],
   "source": [
    "plt.hist(df.us_cpi, bins = 100);"
   ]
  },
  {
   "cell_type": "markdown",
   "id": "95d4e4e9",
   "metadata": {},
   "source": [
    "Здесь даже не видно сильно больших выбросов, распределение сразу похоже на нормальное, но стоит проверить получше."
   ]
  },
  {
   "cell_type": "code",
   "execution_count": 16,
   "id": "35c8eb3a",
   "metadata": {},
   "outputs": [
    {
     "data": {
      "image/png": "[encoded data removed]",
      "text/plain": [
       "<Figure size 432x288 with 1 Axes>"
      ]
     },
     "metadata": {
      "needs_background": "light"
     },
     "output_type": "display_data"
    }
   ],
   "source": [
    "stats.probplot(df.us_cpi, dist=\"norm\", plot=plt);"
   ]
  },
  {
   "cell_type": "markdown",
   "id": "a9f60b6d",
   "metadata": {},
   "source": [
    "Всё же и эта выборка не является нормальной, а значит снова следует использовать тест Уилкоксона"
   ]
  },
  {
   "cell_type": "code",
   "execution_count": 17,
   "id": "00ec1b89",
   "metadata": {},
   "outputs": [
    {
     "name": "stdout",
     "output_type": "stream",
     "text": [
      "Гипотеза не отвергается\n"
     ]
    }
   ],
   "source": [
    "stat, p_value = stats.wilcoxon(df.us_cpi-100, alternative='greater')\n",
    "\n",
    "if p_value < alpha:\n",
    "    print('Гипотеза отвергается')\n",
    "else:\n",
    "    print('Гипотеза не отвергается')"
   ]
  },
  {
   "cell_type": "markdown",
   "id": "edc4546d",
   "metadata": {},
   "source": [
    "> Здесь же ситуация интереснее: нулевая гипотеза не отверглась, то есть, действительно, ежемесячная инфляция в США статистически не значима.\n",
    "Но это может означать баланс инфляции с дефляцией, поэтому стоит проверить и на наличие дефляции"
   ]
  },
  {
   "cell_type": "code",
   "execution_count": 18,
   "id": "52f1a47a",
   "metadata": {},
   "outputs": [
    {
     "name": "stdout",
     "output_type": "stream",
     "text": [
      "Гипотеза отвергается\n"
     ]
    }
   ],
   "source": [
    "stat, p_value = stats.wilcoxon(df.us_cpi-100, alternative='less')\n",
    "\n",
    "if p_value < alpha:\n",
    "    print('Гипотеза отвергается')\n",
    "else:\n",
    "    print('Гипотеза не отвергается')"
   ]
  },
  {
   "cell_type": "markdown",
   "id": "0105ffda",
   "metadata": {},
   "source": [
    "> А вот уже ежемесячная дефляция, как мы видим имеет место в США. Необычный результат, учитывая, что в последнее время мы слышим только об инфляции в западных странах"
   ]
  }
 ],
 "metadata": {
  "kernelspec": {
   "display_name": "Python 3 (ipykernel)",
   "language": "python",
   "name": "python3"
  },
  "language_info": {
   "codemirror_mode": {
    "name": "ipython",
    "version": 3
   },
   "file_extension": ".py",
   "mimetype": "text/x-python",
   "name": "python",
   "nbconvert_exporter": "python",
   "pygments_lexer": "ipython3",
   "version": "3.9.7"
  },
  "toc": {
   "base_numbering": 1,
   "nav_menu": {},
   "number_sections": false,
   "sideBar": false,
   "skip_h1_title": false,
   "title_cell": "Table of Contents",
   "title_sidebar": "Contents",
   "toc_cell": false,
   "toc_position": {},
   "toc_section_display": true,
   "toc_window_display": false
  },
  "varInspector": {
   "cols": {
    "lenName": 16,
    "lenType": 16,
    "lenVar": 40
   },
   "kernels_config": {
    "python": {
     "delete_cmd_postfix": "",
     "delete_cmd_prefix": "del ",
     "library": "var_list.py",
     "varRefreshCmd": "print(var_dic_list())"
    },
    "r": {
     "delete_cmd_postfix": ") ",
     "delete_cmd_prefix": "rm(",
     "library": "var_list.r",
     "varRefreshCmd": "cat(var_dic_list()) "
    }
   },
   "types_to_exclude": [
    "module",
    "function",
    "builtin_function_or_method",
    "instance",
    "_Feature"
   ],
   "window_display": false
  }
 },
 "nbformat": 4,
 "nbformat_minor": 5
}
