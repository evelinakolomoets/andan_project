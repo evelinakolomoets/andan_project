{
 "cells": [
  {
   "cell_type": "code",
   "execution_count": 1,
   "id": "8f0bfd4c",
   "metadata": {},
   "outputs": [],
   "source": [
    "import pandas as pd\n",
    "import numpy as np\n",
    "import matplotlib.pyplot as plt\n",
    "\n",
    "from financial_parser import FinancialInfo"
   ]
  },
  {
   "cell_type": "code",
   "execution_count": 2,
   "id": "da336b6a",
   "metadata": {},
   "outputs": [],
   "source": [
    "import warnings\n",
    "warnings.filterwarnings(\"ignore\")"
   ]
  },
  {
   "cell_type": "code",
   "execution_count": 3,
   "id": "435350ec",
   "metadata": {},
   "outputs": [],
   "source": [
    "df = FinancialInfo(start_date='09.10.2008', end_date='01.05.2023').get_all()"
   ]
  },
  {
   "cell_type": "markdown",
   "id": "f3c76f86",
   "metadata": {},
   "source": [
    "Для удобства запишем результат работы кода из ячейки выше в файл:"
   ]
  },
  {
   "cell_type": "code",
   "execution_count": 4,
   "id": "a77d4144",
   "metadata": {},
   "outputs": [],
   "source": [
    "df.to_csv('df_before_step03.csv')"
   ]
  },
  {
   "cell_type": "code",
   "execution_count": 5,
   "id": "be353169",
   "metadata": {},
   "outputs": [],
   "source": [
    "# если нужно будет выгрузить через файл:\n",
    "# df = pd.read_csv('df_before_step3.csv', index_col=0)"
   ]
  },
  {
   "cell_type": "code",
   "execution_count": 6,
   "id": "c940e1ca",
   "metadata": {},
   "outputs": [
    {
     "data": {
      "text/html": [
       "<div>\n",
       "<style scoped>\n",
       "    .dataframe tbody tr th:only-of-type {\n",
       "        vertical-align: middle;\n",
       "    }\n",
       "\n",
       "    .dataframe tbody tr th {\n",
       "        vertical-align: top;\n",
       "    }\n",
       "\n",
       "    .dataframe thead th {\n",
       "        text-align: right;\n",
       "    }\n",
       "</style>\n",
       "<table border=\"1\" class=\"dataframe\">\n",
       "  <thead>\n",
       "    <tr style=\"text-align: right;\">\n",
       "      <th></th>\n",
       "      <th>usdrub</th>\n",
       "      <th>gold</th>\n",
       "      <th>cb_key_rate</th>\n",
       "      <th>fed_rate</th>\n",
       "      <th>imoex_open</th>\n",
       "      <th>imoex_close</th>\n",
       "      <th>ru_cpi</th>\n",
       "      <th>us_cpi</th>\n",
       "      <th>workday</th>\n",
       "    </tr>\n",
       "  </thead>\n",
       "  <tbody>\n",
       "    <tr>\n",
       "      <th>09.10.2008</th>\n",
       "      <td>26.1629</td>\n",
       "      <td>767.98</td>\n",
       "      <td>11.0</td>\n",
       "      <td>1.4</td>\n",
       "      <td>637.93</td>\n",
       "      <td>700.37</td>\n",
       "      <td>100.91</td>\n",
       "      <td>100.867301</td>\n",
       "      <td>workday</td>\n",
       "    </tr>\n",
       "    <tr>\n",
       "      <th>10.10.2008</th>\n",
       "      <td>26.0695</td>\n",
       "      <td>743.23</td>\n",
       "      <td>11.0</td>\n",
       "      <td>1.4</td>\n",
       "      <td>0.00</td>\n",
       "      <td>700.37</td>\n",
       "      <td>100.91</td>\n",
       "      <td>100.867301</td>\n",
       "      <td>workday</td>\n",
       "    </tr>\n",
       "    <tr>\n",
       "      <th>11.10.2008</th>\n",
       "      <td>26.2080</td>\n",
       "      <td>773.51</td>\n",
       "      <td>11.0</td>\n",
       "      <td>1.4</td>\n",
       "      <td>NaN</td>\n",
       "      <td>NaN</td>\n",
       "      <td>100.91</td>\n",
       "      <td>100.867301</td>\n",
       "      <td>day off</td>\n",
       "    </tr>\n",
       "    <tr>\n",
       "      <th>12.10.2008</th>\n",
       "      <td>NaN</td>\n",
       "      <td>NaN</td>\n",
       "      <td>11.0</td>\n",
       "      <td>1.4</td>\n",
       "      <td>NaN</td>\n",
       "      <td>NaN</td>\n",
       "      <td>100.91</td>\n",
       "      <td>100.867301</td>\n",
       "      <td>day off</td>\n",
       "    </tr>\n",
       "    <tr>\n",
       "      <th>13.10.2008</th>\n",
       "      <td>NaN</td>\n",
       "      <td>NaN</td>\n",
       "      <td>11.0</td>\n",
       "      <td>1.4</td>\n",
       "      <td>700.37</td>\n",
       "      <td>666.37</td>\n",
       "      <td>100.91</td>\n",
       "      <td>100.867301</td>\n",
       "      <td>workday</td>\n",
       "    </tr>\n",
       "  </tbody>\n",
       "</table>\n",
       "</div>"
      ],
      "text/plain": [
       "             usdrub    gold  cb_key_rate  fed_rate  imoex_open  imoex_close  \\\n",
       "09.10.2008  26.1629  767.98         11.0       1.4      637.93       700.37   \n",
       "10.10.2008  26.0695  743.23         11.0       1.4        0.00       700.37   \n",
       "11.10.2008  26.2080  773.51         11.0       1.4         NaN          NaN   \n",
       "12.10.2008      NaN     NaN         11.0       1.4         NaN          NaN   \n",
       "13.10.2008      NaN     NaN         11.0       1.4      700.37       666.37   \n",
       "\n",
       "            ru_cpi      us_cpi  workday  \n",
       "09.10.2008  100.91  100.867301  workday  \n",
       "10.10.2008  100.91  100.867301  workday  \n",
       "11.10.2008  100.91  100.867301  day off  \n",
       "12.10.2008  100.91  100.867301  day off  \n",
       "13.10.2008  100.91  100.867301  workday  "
      ]
     },
     "execution_count": 6,
     "metadata": {},
     "output_type": "execute_result"
    }
   ],
   "source": [
    "df.head()"
   ]
  },
  {
   "cell_type": "markdown",
   "id": "81419654",
   "metadata": {},
   "source": [
    "**Описание переменных:** \n",
    "\n",
    "* `gold` — Цена золота за грамм на определенную дату, в рублях\n",
    "* `cb_key_rate` — Ставка Центрального банка РФ на определенную дату, в %\n",
    "* `fed_rate` — Ставка Федеральной резервной системы США на определенную дату, в %\n",
    "* `imoex_open` — Значение индекса IMOEX (Мосбиржи) на момент открытия торгов, в рублях\n",
    "* `imoex_close` — Значение индекса IMOEX (Мосбиржи) на момент закрытия торгов, в рублях\n",
    "* `ru_cpi` — Значение индекса потребительских цен (ИПЦ) РФ на конец месяца по отношению к предыдущему месяцу (н.: май к апрелю), в %\n",
    "* `us_cpi` — Значение индекса потребительских цен (ИПЦ) США на конец месяца по отношению к предыдущему месяцу (н.: май к апрелю), в %\n",
    "* `workday` - Рабочий или выходной день в РФ в определенную дату, принимает 2 значения: `workday` и `day off`\n",
    "\n",
    "**Целевая переменная:** `usdrub` — Курс доллар/рубль на определенную дату, в рублях. Мы будем обучать модель предсказывать его значение"
   ]
  },
  {
   "cell_type": "markdown",
   "id": "1449a394",
   "metadata": {},
   "source": [
    "Добавим новые признаки: первый и второй рабочие дни после выходных. Экономический смысл, сокрытый за ними:\n",
    "- `first_workday` - первый рабочий день после выходных. Тут может резко измениться значение IMOEX - это можно проверить\n",
    "- `second_workday` - второй рабочий день после выходных. В него уже можно отследить и изменение индекса, и изменение курса доллара после выходных (т.к. Банк России в понедельник использует тот же курс, что был установлен в субботу)"
   ]
  },
  {
   "cell_type": "code",
   "execution_count": 7,
   "id": "ece8682b",
   "metadata": {},
   "outputs": [],
   "source": [
    "df['first_workday'] = ((df['workday'] == 'workday') & (df['workday'].shift(1) == 'day off')).astype(int)\n",
    "df['second_workday'] = df['first_workday'].shift(1).fillna(0).astype(int)"
   ]
  },
  {
   "cell_type": "code",
   "execution_count": 8,
   "id": "eddfa346",
   "metadata": {},
   "outputs": [
    {
     "data": {
      "text/plain": [
       "(5316, 11)"
      ]
     },
     "execution_count": 8,
     "metadata": {},
     "output_type": "execute_result"
    }
   ],
   "source": [
    "df.shape"
   ]
  },
  {
   "cell_type": "code",
   "execution_count": 9,
   "id": "0cebf6bd",
   "metadata": {},
   "outputs": [
    {
     "data": {
      "text/plain": [
       "usdrub            float64\n",
       "gold              float64\n",
       "cb_key_rate       float64\n",
       "fed_rate          float64\n",
       "imoex_open        float64\n",
       "imoex_close       float64\n",
       "ru_cpi            float64\n",
       "us_cpi            float64\n",
       "workday            object\n",
       "first_workday       int64\n",
       "second_workday      int64\n",
       "dtype: object"
      ]
     },
     "execution_count": 9,
     "metadata": {},
     "output_type": "execute_result"
    }
   ],
   "source": [
    "df.dtypes"
   ]
  },
  {
   "cell_type": "markdown",
   "id": "7a68d52b",
   "metadata": {},
   "source": [
    "__1) Пропуски__"
   ]
  },
  {
   "cell_type": "code",
   "execution_count": 10,
   "id": "171461e7",
   "metadata": {},
   "outputs": [
    {
     "data": {
      "text/plain": [
       "usdrub            1718\n",
       "gold              1718\n",
       "imoex_open        1675\n",
       "imoex_close       1675\n",
       "cb_key_rate       1082\n",
       "us_cpi              59\n",
       "ru_cpi              29\n",
       "fed_rate             0\n",
       "workday              0\n",
       "first_workday        0\n",
       "second_workday       0\n",
       "dtype: int64"
      ]
     },
     "execution_count": 10,
     "metadata": {},
     "output_type": "execute_result"
    }
   ],
   "source": [
    "df.isnull().sum().sort_values(ascending=False)"
   ]
  },
  {
   "cell_type": "code",
   "execution_count": 11,
   "id": "3687e880",
   "metadata": {},
   "outputs": [
    {
     "data": {
      "text/html": [
       "<div>\n",
       "<style scoped>\n",
       "    .dataframe tbody tr th:only-of-type {\n",
       "        vertical-align: middle;\n",
       "    }\n",
       "\n",
       "    .dataframe tbody tr th {\n",
       "        vertical-align: top;\n",
       "    }\n",
       "\n",
       "    .dataframe thead th {\n",
       "        text-align: right;\n",
       "    }\n",
       "</style>\n",
       "<table border=\"1\" class=\"dataframe\">\n",
       "  <thead>\n",
       "    <tr style=\"text-align: right;\">\n",
       "      <th></th>\n",
       "      <th>usdrub</th>\n",
       "      <th>gold</th>\n",
       "      <th>cb_key_rate</th>\n",
       "      <th>fed_rate</th>\n",
       "      <th>imoex_open</th>\n",
       "      <th>imoex_close</th>\n",
       "      <th>ru_cpi</th>\n",
       "      <th>us_cpi</th>\n",
       "      <th>workday</th>\n",
       "      <th>first_workday</th>\n",
       "      <th>second_workday</th>\n",
       "    </tr>\n",
       "  </thead>\n",
       "  <tbody>\n",
       "    <tr>\n",
       "      <th>11.10.2008</th>\n",
       "      <td>26.2080</td>\n",
       "      <td>773.51</td>\n",
       "      <td>11.0</td>\n",
       "      <td>1.4</td>\n",
       "      <td>NaN</td>\n",
       "      <td>NaN</td>\n",
       "      <td>100.91</td>\n",
       "      <td>100.867301</td>\n",
       "      <td>day off</td>\n",
       "      <td>0</td>\n",
       "      <td>0</td>\n",
       "    </tr>\n",
       "    <tr>\n",
       "      <th>12.10.2008</th>\n",
       "      <td>NaN</td>\n",
       "      <td>NaN</td>\n",
       "      <td>11.0</td>\n",
       "      <td>1.4</td>\n",
       "      <td>NaN</td>\n",
       "      <td>NaN</td>\n",
       "      <td>100.91</td>\n",
       "      <td>100.867301</td>\n",
       "      <td>day off</td>\n",
       "      <td>0</td>\n",
       "      <td>0</td>\n",
       "    </tr>\n",
       "    <tr>\n",
       "      <th>18.10.2008</th>\n",
       "      <td>26.2505</td>\n",
       "      <td>676.02</td>\n",
       "      <td>11.0</td>\n",
       "      <td>1.4</td>\n",
       "      <td>NaN</td>\n",
       "      <td>NaN</td>\n",
       "      <td>100.91</td>\n",
       "      <td>100.867301</td>\n",
       "      <td>day off</td>\n",
       "      <td>0</td>\n",
       "      <td>0</td>\n",
       "    </tr>\n",
       "    <tr>\n",
       "      <th>19.10.2008</th>\n",
       "      <td>NaN</td>\n",
       "      <td>NaN</td>\n",
       "      <td>11.0</td>\n",
       "      <td>1.4</td>\n",
       "      <td>NaN</td>\n",
       "      <td>NaN</td>\n",
       "      <td>100.91</td>\n",
       "      <td>100.867301</td>\n",
       "      <td>day off</td>\n",
       "      <td>0</td>\n",
       "      <td>0</td>\n",
       "    </tr>\n",
       "    <tr>\n",
       "      <th>25.10.2008</th>\n",
       "      <td>27.0596</td>\n",
       "      <td>602.47</td>\n",
       "      <td>11.0</td>\n",
       "      <td>1.4</td>\n",
       "      <td>NaN</td>\n",
       "      <td>NaN</td>\n",
       "      <td>100.91</td>\n",
       "      <td>100.867301</td>\n",
       "      <td>day off</td>\n",
       "      <td>0</td>\n",
       "      <td>0</td>\n",
       "    </tr>\n",
       "  </tbody>\n",
       "</table>\n",
       "</div>"
      ],
      "text/plain": [
       "             usdrub    gold  cb_key_rate  fed_rate  imoex_open  imoex_close  \\\n",
       "11.10.2008  26.2080  773.51         11.0       1.4         NaN          NaN   \n",
       "12.10.2008      NaN     NaN         11.0       1.4         NaN          NaN   \n",
       "18.10.2008  26.2505  676.02         11.0       1.4         NaN          NaN   \n",
       "19.10.2008      NaN     NaN         11.0       1.4         NaN          NaN   \n",
       "25.10.2008  27.0596  602.47         11.0       1.4         NaN          NaN   \n",
       "\n",
       "            ru_cpi      us_cpi  workday  first_workday  second_workday  \n",
       "11.10.2008  100.91  100.867301  day off              0               0  \n",
       "12.10.2008  100.91  100.867301  day off              0               0  \n",
       "18.10.2008  100.91  100.867301  day off              0               0  \n",
       "19.10.2008  100.91  100.867301  day off              0               0  \n",
       "25.10.2008  100.91  100.867301  day off              0               0  "
      ]
     },
     "execution_count": 11,
     "metadata": {},
     "output_type": "execute_result"
    }
   ],
   "source": [
    "df[df['imoex_open'].isnull()].head()"
   ]
  },
  {
   "cell_type": "markdown",
   "id": "b43a783c",
   "metadata": {},
   "source": [
    "Видим, что значение IMOEX не спарсилось за все субботы и воскресенья, что в целом логично, тк это выходные дни и торгов в них нет. Поэтому удалим эти строки"
   ]
  },
  {
   "cell_type": "code",
   "execution_count": 12,
   "id": "43d24ea3",
   "metadata": {},
   "outputs": [],
   "source": [
    "df = df.drop(df[df['imoex_open'].isnull()].index)"
   ]
  },
  {
   "cell_type": "code",
   "execution_count": 13,
   "id": "aa290c73",
   "metadata": {},
   "outputs": [
    {
     "data": {
      "text/plain": [
       "usdrub            822\n",
       "gold              822\n",
       "us_cpi             41\n",
       "cb_key_rate        34\n",
       "ru_cpi             20\n",
       "fed_rate            0\n",
       "imoex_open          0\n",
       "imoex_close         0\n",
       "workday             0\n",
       "first_workday       0\n",
       "second_workday      0\n",
       "dtype: int64"
      ]
     },
     "execution_count": 13,
     "metadata": {},
     "output_type": "execute_result"
    }
   ],
   "source": [
    "df.isnull().sum().sort_values(ascending=False)"
   ]
  },
  {
   "cell_type": "markdown",
   "id": "2e781f71",
   "metadata": {},
   "source": [
    "Таким образом, у нас пропали практически все Nanы в ставке ЦБ, что говорит о том, что там тоже не парсились выходные. Но остались те пропуски, которые были в праздничные, при этом будние дни:"
   ]
  },
  {
   "cell_type": "code",
   "execution_count": 14,
   "id": "eb9a60b0",
   "metadata": {},
   "outputs": [
    {
     "data": {
      "text/html": [
       "<div>\n",
       "<style scoped>\n",
       "    .dataframe tbody tr th:only-of-type {\n",
       "        vertical-align: middle;\n",
       "    }\n",
       "\n",
       "    .dataframe tbody tr th {\n",
       "        vertical-align: top;\n",
       "    }\n",
       "\n",
       "    .dataframe thead th {\n",
       "        text-align: right;\n",
       "    }\n",
       "</style>\n",
       "<table border=\"1\" class=\"dataframe\">\n",
       "  <thead>\n",
       "    <tr style=\"text-align: right;\">\n",
       "      <th></th>\n",
       "      <th>usdrub</th>\n",
       "      <th>gold</th>\n",
       "      <th>cb_key_rate</th>\n",
       "      <th>fed_rate</th>\n",
       "      <th>imoex_open</th>\n",
       "      <th>imoex_close</th>\n",
       "      <th>ru_cpi</th>\n",
       "      <th>us_cpi</th>\n",
       "      <th>workday</th>\n",
       "      <th>first_workday</th>\n",
       "      <th>second_workday</th>\n",
       "    </tr>\n",
       "  </thead>\n",
       "  <tbody>\n",
       "    <tr>\n",
       "      <th>06.01.2014</th>\n",
       "      <td>NaN</td>\n",
       "      <td>NaN</td>\n",
       "      <td>NaN</td>\n",
       "      <td>0.25</td>\n",
       "      <td>1504.14</td>\n",
       "      <td>1466.15</td>\n",
       "      <td>100.59</td>\n",
       "      <td>99.758169</td>\n",
       "      <td>day off</td>\n",
       "      <td>0</td>\n",
       "      <td>0</td>\n",
       "    </tr>\n",
       "    <tr>\n",
       "      <th>08.01.2014</th>\n",
       "      <td>NaN</td>\n",
       "      <td>NaN</td>\n",
       "      <td>NaN</td>\n",
       "      <td>0.25</td>\n",
       "      <td>1465.99</td>\n",
       "      <td>1462.67</td>\n",
       "      <td>100.59</td>\n",
       "      <td>99.758169</td>\n",
       "      <td>day off</td>\n",
       "      <td>0</td>\n",
       "      <td>0</td>\n",
       "    </tr>\n",
       "    <tr>\n",
       "      <th>02.05.2014</th>\n",
       "      <td>NaN</td>\n",
       "      <td>NaN</td>\n",
       "      <td>NaN</td>\n",
       "      <td>0.25</td>\n",
       "      <td>1304.93</td>\n",
       "      <td>1304.84</td>\n",
       "      <td>100.90</td>\n",
       "      <td>99.810061</td>\n",
       "      <td>day off</td>\n",
       "      <td>0</td>\n",
       "      <td>0</td>\n",
       "    </tr>\n",
       "    <tr>\n",
       "      <th>03.11.2014</th>\n",
       "      <td>NaN</td>\n",
       "      <td>NaN</td>\n",
       "      <td>NaN</td>\n",
       "      <td>0.25</td>\n",
       "      <td>1488.15</td>\n",
       "      <td>1491.19</td>\n",
       "      <td>101.28</td>\n",
       "      <td>100.188621</td>\n",
       "      <td>day off</td>\n",
       "      <td>0</td>\n",
       "      <td>0</td>\n",
       "    </tr>\n",
       "    <tr>\n",
       "      <th>05.01.2015</th>\n",
       "      <td>NaN</td>\n",
       "      <td>NaN</td>\n",
       "      <td>NaN</td>\n",
       "      <td>0.25</td>\n",
       "      <td>1394.66</td>\n",
       "      <td>1435.66</td>\n",
       "      <td>103.85</td>\n",
       "      <td>100.641116</td>\n",
       "      <td>day off</td>\n",
       "      <td>0</td>\n",
       "      <td>0</td>\n",
       "    </tr>\n",
       "  </tbody>\n",
       "</table>\n",
       "</div>"
      ],
      "text/plain": [
       "            usdrub  gold  cb_key_rate  fed_rate  imoex_open  imoex_close  \\\n",
       "06.01.2014     NaN   NaN          NaN      0.25     1504.14      1466.15   \n",
       "08.01.2014     NaN   NaN          NaN      0.25     1465.99      1462.67   \n",
       "02.05.2014     NaN   NaN          NaN      0.25     1304.93      1304.84   \n",
       "03.11.2014     NaN   NaN          NaN      0.25     1488.15      1491.19   \n",
       "05.01.2015     NaN   NaN          NaN      0.25     1394.66      1435.66   \n",
       "\n",
       "            ru_cpi      us_cpi  workday  first_workday  second_workday  \n",
       "06.01.2014  100.59   99.758169  day off              0               0  \n",
       "08.01.2014  100.59   99.758169  day off              0               0  \n",
       "02.05.2014  100.90   99.810061  day off              0               0  \n",
       "03.11.2014  101.28  100.188621  day off              0               0  \n",
       "05.01.2015  103.85  100.641116  day off              0               0  "
      ]
     },
     "execution_count": 14,
     "metadata": {},
     "output_type": "execute_result"
    }
   ],
   "source": [
    "df[df['cb_key_rate'].isnull()].head()"
   ]
  },
  {
   "cell_type": "markdown",
   "id": "0019f7e3",
   "metadata": {},
   "source": [
    "ЦБ в праздники отдыхает, а вот `IMOEX` меняется, поэтому заполним их с помощью forward fill значением ставки, которое было на предыдущий день:"
   ]
  },
  {
   "cell_type": "code",
   "execution_count": 15,
   "id": "38bce83c",
   "metadata": {},
   "outputs": [],
   "source": [
    "df['cb_key_rate'] = df['cb_key_rate'].ffill()"
   ]
  },
  {
   "cell_type": "code",
   "execution_count": 16,
   "id": "f1cc1f1a",
   "metadata": {},
   "outputs": [
    {
     "data": {
      "text/plain": [
       "usdrub            822\n",
       "gold              822\n",
       "us_cpi             41\n",
       "ru_cpi             20\n",
       "cb_key_rate         0\n",
       "fed_rate            0\n",
       "imoex_open          0\n",
       "imoex_close         0\n",
       "workday             0\n",
       "first_workday       0\n",
       "second_workday      0\n",
       "dtype: int64"
      ]
     },
     "execution_count": 16,
     "metadata": {},
     "output_type": "execute_result"
    }
   ],
   "source": [
    "df.isnull().sum().sort_values(ascending=False)"
   ]
  },
  {
   "cell_type": "markdown",
   "id": "46c561c2",
   "metadata": {},
   "source": [
    "Значений ИПЦ нет с мая 2023 у США и с апреля 2023 у РФ:"
   ]
  },
  {
   "cell_type": "code",
   "execution_count": 17,
   "id": "d32d3c18",
   "metadata": {},
   "outputs": [
    {
     "data": {
      "text/html": [
       "<div>\n",
       "<style scoped>\n",
       "    .dataframe tbody tr th:only-of-type {\n",
       "        vertical-align: middle;\n",
       "    }\n",
       "\n",
       "    .dataframe tbody tr th {\n",
       "        vertical-align: top;\n",
       "    }\n",
       "\n",
       "    .dataframe thead th {\n",
       "        text-align: right;\n",
       "    }\n",
       "</style>\n",
       "<table border=\"1\" class=\"dataframe\">\n",
       "  <thead>\n",
       "    <tr style=\"text-align: right;\">\n",
       "      <th></th>\n",
       "      <th>usdrub</th>\n",
       "      <th>gold</th>\n",
       "      <th>cb_key_rate</th>\n",
       "      <th>fed_rate</th>\n",
       "      <th>imoex_open</th>\n",
       "      <th>imoex_close</th>\n",
       "      <th>ru_cpi</th>\n",
       "      <th>us_cpi</th>\n",
       "      <th>workday</th>\n",
       "      <th>first_workday</th>\n",
       "      <th>second_workday</th>\n",
       "    </tr>\n",
       "  </thead>\n",
       "  <tbody>\n",
       "    <tr>\n",
       "      <th>02.03.2023</th>\n",
       "      <td>75.2513</td>\n",
       "      <td>4414.41</td>\n",
       "      <td>7.5</td>\n",
       "      <td>4.65</td>\n",
       "      <td>2284.87</td>\n",
       "      <td>2254.30</td>\n",
       "      <td>100.37</td>\n",
       "      <td>NaN</td>\n",
       "      <td>workday</td>\n",
       "      <td>0</td>\n",
       "      <td>0</td>\n",
       "    </tr>\n",
       "    <tr>\n",
       "      <th>03.03.2023</th>\n",
       "      <td>75.4729</td>\n",
       "      <td>4467.81</td>\n",
       "      <td>7.5</td>\n",
       "      <td>4.65</td>\n",
       "      <td>2250.12</td>\n",
       "      <td>2272.20</td>\n",
       "      <td>100.37</td>\n",
       "      <td>NaN</td>\n",
       "      <td>workday</td>\n",
       "      <td>0</td>\n",
       "      <td>0</td>\n",
       "    </tr>\n",
       "    <tr>\n",
       "      <th>06.03.2023</th>\n",
       "      <td>NaN</td>\n",
       "      <td>NaN</td>\n",
       "      <td>7.5</td>\n",
       "      <td>4.65</td>\n",
       "      <td>2286.20</td>\n",
       "      <td>2294.12</td>\n",
       "      <td>100.37</td>\n",
       "      <td>NaN</td>\n",
       "      <td>workday</td>\n",
       "      <td>1</td>\n",
       "      <td>0</td>\n",
       "    </tr>\n",
       "    <tr>\n",
       "      <th>07.03.2023</th>\n",
       "      <td>75.4728</td>\n",
       "      <td>4467.56</td>\n",
       "      <td>7.5</td>\n",
       "      <td>4.65</td>\n",
       "      <td>2294.32</td>\n",
       "      <td>2295.60</td>\n",
       "      <td>100.37</td>\n",
       "      <td>NaN</td>\n",
       "      <td>workday</td>\n",
       "      <td>0</td>\n",
       "      <td>1</td>\n",
       "    </tr>\n",
       "    <tr>\n",
       "      <th>09.03.2023</th>\n",
       "      <td>NaN</td>\n",
       "      <td>NaN</td>\n",
       "      <td>7.5</td>\n",
       "      <td>4.65</td>\n",
       "      <td>2295.03</td>\n",
       "      <td>2290.14</td>\n",
       "      <td>100.37</td>\n",
       "      <td>NaN</td>\n",
       "      <td>workday</td>\n",
       "      <td>1</td>\n",
       "      <td>0</td>\n",
       "    </tr>\n",
       "  </tbody>\n",
       "</table>\n",
       "</div>"
      ],
      "text/plain": [
       "             usdrub     gold  cb_key_rate  fed_rate  imoex_open  imoex_close  \\\n",
       "02.03.2023  75.2513  4414.41          7.5      4.65     2284.87      2254.30   \n",
       "03.03.2023  75.4729  4467.81          7.5      4.65     2250.12      2272.20   \n",
       "06.03.2023      NaN      NaN          7.5      4.65     2286.20      2294.12   \n",
       "07.03.2023  75.4728  4467.56          7.5      4.65     2294.32      2295.60   \n",
       "09.03.2023      NaN      NaN          7.5      4.65     2295.03      2290.14   \n",
       "\n",
       "            ru_cpi  us_cpi  workday  first_workday  second_workday  \n",
       "02.03.2023  100.37     NaN  workday              0               0  \n",
       "03.03.2023  100.37     NaN  workday              0               0  \n",
       "06.03.2023  100.37     NaN  workday              1               0  \n",
       "07.03.2023  100.37     NaN  workday              0               1  \n",
       "09.03.2023  100.37     NaN  workday              1               0  "
      ]
     },
     "execution_count": 17,
     "metadata": {},
     "output_type": "execute_result"
    }
   ],
   "source": [
    "df[df['us_cpi'].isnull()].head()"
   ]
  },
  {
   "cell_type": "code",
   "execution_count": 18,
   "id": "98bbd87d",
   "metadata": {},
   "outputs": [
    {
     "data": {
      "text/html": [
       "<div>\n",
       "<style scoped>\n",
       "    .dataframe tbody tr th:only-of-type {\n",
       "        vertical-align: middle;\n",
       "    }\n",
       "\n",
       "    .dataframe tbody tr th {\n",
       "        vertical-align: top;\n",
       "    }\n",
       "\n",
       "    .dataframe thead th {\n",
       "        text-align: right;\n",
       "    }\n",
       "</style>\n",
       "<table border=\"1\" class=\"dataframe\">\n",
       "  <thead>\n",
       "    <tr style=\"text-align: right;\">\n",
       "      <th></th>\n",
       "      <th>usdrub</th>\n",
       "      <th>gold</th>\n",
       "      <th>cb_key_rate</th>\n",
       "      <th>fed_rate</th>\n",
       "      <th>imoex_open</th>\n",
       "      <th>imoex_close</th>\n",
       "      <th>ru_cpi</th>\n",
       "      <th>us_cpi</th>\n",
       "      <th>workday</th>\n",
       "      <th>first_workday</th>\n",
       "      <th>second_workday</th>\n",
       "    </tr>\n",
       "  </thead>\n",
       "  <tbody>\n",
       "    <tr>\n",
       "      <th>03.04.2023</th>\n",
       "      <td>NaN</td>\n",
       "      <td>NaN</td>\n",
       "      <td>7.5</td>\n",
       "      <td>4.9</td>\n",
       "      <td>2474.37</td>\n",
       "      <td>2473.32</td>\n",
       "      <td>NaN</td>\n",
       "      <td>NaN</td>\n",
       "      <td>workday</td>\n",
       "      <td>1</td>\n",
       "      <td>0</td>\n",
       "    </tr>\n",
       "    <tr>\n",
       "      <th>04.04.2023</th>\n",
       "      <td>77.9510</td>\n",
       "      <td>4961.49</td>\n",
       "      <td>7.5</td>\n",
       "      <td>4.9</td>\n",
       "      <td>2483.47</td>\n",
       "      <td>2480.45</td>\n",
       "      <td>NaN</td>\n",
       "      <td>NaN</td>\n",
       "      <td>workday</td>\n",
       "      <td>0</td>\n",
       "      <td>1</td>\n",
       "    </tr>\n",
       "    <tr>\n",
       "      <th>05.04.2023</th>\n",
       "      <td>79.3563</td>\n",
       "      <td>5060.12</td>\n",
       "      <td>7.5</td>\n",
       "      <td>4.9</td>\n",
       "      <td>2489.18</td>\n",
       "      <td>2500.80</td>\n",
       "      <td>NaN</td>\n",
       "      <td>NaN</td>\n",
       "      <td>workday</td>\n",
       "      <td>0</td>\n",
       "      <td>0</td>\n",
       "    </tr>\n",
       "    <tr>\n",
       "      <th>06.04.2023</th>\n",
       "      <td>79.4961</td>\n",
       "      <td>5136.25</td>\n",
       "      <td>7.5</td>\n",
       "      <td>4.9</td>\n",
       "      <td>2504.06</td>\n",
       "      <td>2498.30</td>\n",
       "      <td>NaN</td>\n",
       "      <td>NaN</td>\n",
       "      <td>workday</td>\n",
       "      <td>0</td>\n",
       "      <td>0</td>\n",
       "    </tr>\n",
       "    <tr>\n",
       "      <th>07.04.2023</th>\n",
       "      <td>80.6713</td>\n",
       "      <td>5267.29</td>\n",
       "      <td>7.5</td>\n",
       "      <td>4.9</td>\n",
       "      <td>2504.04</td>\n",
       "      <td>2508.39</td>\n",
       "      <td>NaN</td>\n",
       "      <td>NaN</td>\n",
       "      <td>workday</td>\n",
       "      <td>0</td>\n",
       "      <td>0</td>\n",
       "    </tr>\n",
       "  </tbody>\n",
       "</table>\n",
       "</div>"
      ],
      "text/plain": [
       "             usdrub     gold  cb_key_rate  fed_rate  imoex_open  imoex_close  \\\n",
       "03.04.2023      NaN      NaN          7.5       4.9     2474.37      2473.32   \n",
       "04.04.2023  77.9510  4961.49          7.5       4.9     2483.47      2480.45   \n",
       "05.04.2023  79.3563  5060.12          7.5       4.9     2489.18      2500.80   \n",
       "06.04.2023  79.4961  5136.25          7.5       4.9     2504.06      2498.30   \n",
       "07.04.2023  80.6713  5267.29          7.5       4.9     2504.04      2508.39   \n",
       "\n",
       "            ru_cpi  us_cpi  workday  first_workday  second_workday  \n",
       "03.04.2023     NaN     NaN  workday              1               0  \n",
       "04.04.2023     NaN     NaN  workday              0               1  \n",
       "05.04.2023     NaN     NaN  workday              0               0  \n",
       "06.04.2023     NaN     NaN  workday              0               0  \n",
       "07.04.2023     NaN     NaN  workday              0               0  "
      ]
     },
     "execution_count": 18,
     "metadata": {},
     "output_type": "execute_result"
    }
   ],
   "source": [
    "df[df['ru_cpi'].isnull()].head()"
   ]
  },
  {
   "cell_type": "markdown",
   "id": "b68c8a3e",
   "metadata": {},
   "source": [
    "Поэтому просто избавимся от двух последних месяцев:"
   ]
  },
  {
   "cell_type": "code",
   "execution_count": 19,
   "id": "36142c7f",
   "metadata": {},
   "outputs": [],
   "source": [
    "df = df.drop(df[df['us_cpi'].isnull()].index)"
   ]
  },
  {
   "cell_type": "code",
   "execution_count": 20,
   "id": "ac58f81f",
   "metadata": {},
   "outputs": [
    {
     "data": {
      "text/plain": [
       "usdrub            813\n",
       "gold              813\n",
       "cb_key_rate         0\n",
       "fed_rate            0\n",
       "imoex_open          0\n",
       "imoex_close         0\n",
       "ru_cpi              0\n",
       "us_cpi              0\n",
       "workday             0\n",
       "first_workday       0\n",
       "second_workday      0\n",
       "dtype: int64"
      ]
     },
     "execution_count": 20,
     "metadata": {},
     "output_type": "execute_result"
    }
   ],
   "source": [
    "df.isnull().sum().sort_values(ascending=False)"
   ]
  },
  {
   "cell_type": "markdown",
   "id": "9ea15812",
   "metadata": {},
   "source": [
    "Количество пропусков в `usdrub` и `gold` одинаковое, и пропущены значения именно за все понедельники:"
   ]
  },
  {
   "cell_type": "code",
   "execution_count": 21,
   "id": "9140783b",
   "metadata": {},
   "outputs": [
    {
     "data": {
      "text/html": [
       "<div>\n",
       "<style scoped>\n",
       "    .dataframe tbody tr th:only-of-type {\n",
       "        vertical-align: middle;\n",
       "    }\n",
       "\n",
       "    .dataframe tbody tr th {\n",
       "        vertical-align: top;\n",
       "    }\n",
       "\n",
       "    .dataframe thead th {\n",
       "        text-align: right;\n",
       "    }\n",
       "</style>\n",
       "<table border=\"1\" class=\"dataframe\">\n",
       "  <thead>\n",
       "    <tr style=\"text-align: right;\">\n",
       "      <th></th>\n",
       "      <th>usdrub</th>\n",
       "      <th>gold</th>\n",
       "      <th>cb_key_rate</th>\n",
       "      <th>fed_rate</th>\n",
       "      <th>imoex_open</th>\n",
       "      <th>imoex_close</th>\n",
       "      <th>ru_cpi</th>\n",
       "      <th>us_cpi</th>\n",
       "      <th>workday</th>\n",
       "      <th>first_workday</th>\n",
       "      <th>second_workday</th>\n",
       "    </tr>\n",
       "  </thead>\n",
       "  <tbody>\n",
       "    <tr>\n",
       "      <th>13.10.2008</th>\n",
       "      <td>NaN</td>\n",
       "      <td>NaN</td>\n",
       "      <td>11.0</td>\n",
       "      <td>1.4</td>\n",
       "      <td>700.37</td>\n",
       "      <td>666.37</td>\n",
       "      <td>100.91</td>\n",
       "      <td>100.867301</td>\n",
       "      <td>workday</td>\n",
       "      <td>1</td>\n",
       "      <td>0</td>\n",
       "    </tr>\n",
       "    <tr>\n",
       "      <th>20.10.2008</th>\n",
       "      <td>NaN</td>\n",
       "      <td>NaN</td>\n",
       "      <td>11.0</td>\n",
       "      <td>1.4</td>\n",
       "      <td>599.77</td>\n",
       "      <td>626.42</td>\n",
       "      <td>100.91</td>\n",
       "      <td>100.867301</td>\n",
       "      <td>workday</td>\n",
       "      <td>1</td>\n",
       "      <td>0</td>\n",
       "    </tr>\n",
       "    <tr>\n",
       "      <th>27.10.2008</th>\n",
       "      <td>NaN</td>\n",
       "      <td>NaN</td>\n",
       "      <td>11.0</td>\n",
       "      <td>1.4</td>\n",
       "      <td>0.00</td>\n",
       "      <td>513.62</td>\n",
       "      <td>100.91</td>\n",
       "      <td>100.867301</td>\n",
       "      <td>workday</td>\n",
       "      <td>1</td>\n",
       "      <td>0</td>\n",
       "    </tr>\n",
       "    <tr>\n",
       "      <th>05.11.2008</th>\n",
       "      <td>NaN</td>\n",
       "      <td>NaN</td>\n",
       "      <td>11.0</td>\n",
       "      <td>0.9</td>\n",
       "      <td>769.34</td>\n",
       "      <td>775.19</td>\n",
       "      <td>100.83</td>\n",
       "      <td>101.802461</td>\n",
       "      <td>workday</td>\n",
       "      <td>1</td>\n",
       "      <td>0</td>\n",
       "    </tr>\n",
       "    <tr>\n",
       "      <th>10.11.2008</th>\n",
       "      <td>NaN</td>\n",
       "      <td>NaN</td>\n",
       "      <td>11.0</td>\n",
       "      <td>1.0</td>\n",
       "      <td>725.93</td>\n",
       "      <td>741.51</td>\n",
       "      <td>100.83</td>\n",
       "      <td>101.802461</td>\n",
       "      <td>workday</td>\n",
       "      <td>1</td>\n",
       "      <td>0</td>\n",
       "    </tr>\n",
       "  </tbody>\n",
       "</table>\n",
       "</div>"
      ],
      "text/plain": [
       "            usdrub  gold  cb_key_rate  fed_rate  imoex_open  imoex_close  \\\n",
       "13.10.2008     NaN   NaN         11.0       1.4      700.37       666.37   \n",
       "20.10.2008     NaN   NaN         11.0       1.4      599.77       626.42   \n",
       "27.10.2008     NaN   NaN         11.0       1.4        0.00       513.62   \n",
       "05.11.2008     NaN   NaN         11.0       0.9      769.34       775.19   \n",
       "10.11.2008     NaN   NaN         11.0       1.0      725.93       741.51   \n",
       "\n",
       "            ru_cpi      us_cpi  workday  first_workday  second_workday  \n",
       "13.10.2008  100.91  100.867301  workday              1               0  \n",
       "20.10.2008  100.91  100.867301  workday              1               0  \n",
       "27.10.2008  100.91  100.867301  workday              1               0  \n",
       "05.11.2008  100.83  101.802461  workday              1               0  \n",
       "10.11.2008  100.83  101.802461  workday              1               0  "
      ]
     },
     "execution_count": 21,
     "metadata": {},
     "output_type": "execute_result"
    }
   ],
   "source": [
    "df[df['gold'].isnull()].head()"
   ]
  },
  {
   "cell_type": "markdown",
   "id": "d71c2dfd",
   "metadata": {},
   "source": [
    "- С `usdrub` так произошло потому, что ЦБ определяет курс иностранных валют по отношению к рублю каждый рабочий день в 11:30, но действовать он начинает лишь со следующего дня.\n",
    "- А цена `gold` пересчитывается в рубли по официальному курсу доллара США к российскому рублю, действующему на день, следующий за днем установления учетных цен\n",
    "\n",
    "ЦБ заявляет, что курс, устанавливаемый в пятницу, действует в субботу, воскресенье и понедельник (однако почему-то не проставил значения курса на понедельник). Поэтому заполним пропущенные значения с помощью forward fill:"
   ]
  },
  {
   "cell_type": "code",
   "execution_count": 22,
   "id": "e483cdbb",
   "metadata": {},
   "outputs": [],
   "source": [
    "df['usdrub'] = df['usdrub'].ffill()"
   ]
  },
  {
   "cell_type": "code",
   "execution_count": 23,
   "id": "06426a00",
   "metadata": {},
   "outputs": [],
   "source": [
    "df['gold'] = df['gold'].ffill()"
   ]
  },
  {
   "cell_type": "code",
   "execution_count": 24,
   "id": "35046df9",
   "metadata": {},
   "outputs": [
    {
     "data": {
      "text/plain": [
       "usdrub            0\n",
       "gold              0\n",
       "cb_key_rate       0\n",
       "fed_rate          0\n",
       "imoex_open        0\n",
       "imoex_close       0\n",
       "ru_cpi            0\n",
       "us_cpi            0\n",
       "workday           0\n",
       "first_workday     0\n",
       "second_workday    0\n",
       "dtype: int64"
      ]
     },
     "execution_count": 24,
     "metadata": {},
     "output_type": "execute_result"
    }
   ],
   "source": [
    "df.isnull().sum().sort_values(ascending=False)"
   ]
  },
  {
   "cell_type": "markdown",
   "id": "c2851523",
   "metadata": {},
   "source": [
    "__2) Выбросы__"
   ]
  },
  {
   "cell_type": "code",
   "execution_count": 25,
   "id": "8f63e189",
   "metadata": {},
   "outputs": [
    {
     "data": {
      "image/png": "[encoded data removed]",
      "text/plain": [
       "<Figure size 936x576 with 12 Axes>"
      ]
     },
     "metadata": {
      "needs_background": "light"
     },
     "output_type": "display_data"
    }
   ],
   "source": [
    "df.hist(figsize=(13,8))\n",
    "plt.tight_layout();"
   ]
  },
  {
   "cell_type": "markdown",
   "id": "2c4189e2",
   "metadata": {},
   "source": [
    "Конечно, доллару слегка плохо, но мы попробуем посмотреть, что из этого выйдет дальше. Все остальные данные выглядят достаточно приятно, у распределений нет длинных хвостов либо резко выделяющихся значений."
   ]
  },
  {
   "cell_type": "markdown",
   "id": "876c7c91",
   "metadata": {},
   "source": [
    "Сохраним отредактированный набор данных в файл для последующих этапов:"
   ]
  },
  {
   "cell_type": "code",
   "execution_count": 26,
   "id": "e55dec29",
   "metadata": {},
   "outputs": [],
   "source": [
    "df.to_csv('df_after_step03.csv')"
   ]
  }
 ],
 "metadata": {
  "kernelspec": {
   "display_name": "Python 3 (ipykernel)",
   "language": "python",
   "name": "python3"
  },
  "language_info": {
   "codemirror_mode": {
    "name": "ipython",
    "version": 3
   },
   "file_extension": ".py",
   "mimetype": "text/x-python",
   "name": "python",
   "nbconvert_exporter": "python",
   "pygments_lexer": "ipython3",
   "version": "3.9.7"
  }
 },
 "nbformat": 4,
 "nbformat_minor": 5
}
